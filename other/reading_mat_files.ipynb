{
 "cells": [
  {
   "cell_type": "code",
   "execution_count": 1,
   "metadata": {},
   "outputs": [
    {
     "name": "stderr",
     "output_type": "stream",
     "text": [
      "2022-06-24 22:37:35.382876: I tensorflow/core/util/util.cc:169] oneDNN custom operations are on. You may see slightly different numerical results due to floating-point round-off errors from different computation orders. To turn them off, set the environment variable `TF_ENABLE_ONEDNN_OPTS=0`.\n",
      "2022-06-24 22:37:35.389160: W tensorflow/stream_executor/platform/default/dso_loader.cc:64] Could not load dynamic library 'libcudart.so.11.0'; dlerror: libcudart.so.11.0: cannot open shared object file: No such file or directory\n",
      "2022-06-24 22:37:35.389180: I tensorflow/stream_executor/cuda/cudart_stub.cc:29] Ignore above cudart dlerror if you do not have a GPU set up on your machine.\n"
     ]
    }
   ],
   "source": [
    "import tensorflow as tf \n",
    "import tensorflow_datasets as tfds"
   ]
  },
  {
   "cell_type": "code",
   "execution_count": 2,
   "metadata": {},
   "outputs": [
    {
     "name": "stderr",
     "output_type": "stream",
     "text": [
      "2022-06-24 22:37:45.371367: W tensorflow/core/platform/cloud/google_auth_provider.cc:184] All attempts to get a Google authentication bearer token failed, returning an empty token. Retrieving token from files failed with \"NOT_FOUND: Could not locate the credentials file.\". Retrieving token from GCE failed with \"FAILED_PRECONDITION: Error executing an HTTP request: libcurl code 6 meaning 'Couldn't resolve host name', error details: Could not resolve host: metadata\".\n"
     ]
    }
   ],
   "source": [
    "datasets = tfds.list_builders(with_community_datasets=True)"
   ]
  },
  {
   "cell_type": "code",
   "execution_count": 3,
   "metadata": {},
   "outputs": [
    {
     "name": "stderr",
     "output_type": "stream",
     "text": [
      "2022-06-24 22:37:47.541931: W tensorflow/stream_executor/platform/default/dso_loader.cc:64] Could not load dynamic library 'libcuda.so.1'; dlerror: libcuda.so.1: cannot open shared object file: No such file or directory\n",
      "2022-06-24 22:37:47.542229: W tensorflow/stream_executor/cuda/cuda_driver.cc:269] failed call to cuInit: UNKNOWN ERROR (303)\n",
      "2022-06-24 22:37:47.542281: I tensorflow/stream_executor/cuda/cuda_diagnostics.cc:156] kernel driver does not appear to be running on this host (1a39dd3e8e3b): /proc/driver/nvidia/version does not exist\n",
      "2022-06-24 22:37:47.543577: I tensorflow/core/platform/cpu_feature_guard.cc:193] This TensorFlow binary is optimized with oneAPI Deep Neural Network Library (oneDNN) to use the following CPU instructions in performance-critical operations:  AVX2 AVX512F AVX512_VNNI FMA\n",
      "To enable them in other operations, rebuild TensorFlow with the appropriate compiler flags.\n"
     ]
    }
   ],
   "source": [
    "mnist, info = tfds.load('mnist', with_info=True)"
   ]
  },
  {
   "cell_type": "code",
   "execution_count": 4,
   "metadata": {},
   "outputs": [],
   "source": [
    "dataset = tfds.load('mnist', split=tfds.Split.TRAIN, batch_size=1)"
   ]
  },
  {
   "cell_type": "code",
   "execution_count": 23,
   "metadata": {},
   "outputs": [],
   "source": [
    "data = tfds.load('horses_or_humans', as_supervised=True)"
   ]
  },
  {
   "cell_type": "code",
   "execution_count": 29,
   "metadata": {},
   "outputs": [
    {
     "data": {
      "text/plain": [
       "<PrefetchDataset element_spec=(TensorSpec(shape=(300, 300, 3), dtype=tf.uint8, name=None), TensorSpec(shape=(), dtype=tf.int64, name=None))>"
      ]
     },
     "execution_count": 29,
     "metadata": {},
     "output_type": "execute_result"
    }
   ],
   "source": [
    "data['train'].batch(10)"
   ]
  },
  {
   "cell_type": "code",
   "execution_count": 31,
   "metadata": {},
   "outputs": [],
   "source": [
    "model = tf.keras.models.Sequential([\n",
    "    tf.keras.layers.Conv2D(16, (3,3), activation='relu', \n",
    "                                      input_shape=(300, 300, 3)),\n",
    "    tf.keras.layers.MaxPooling2D(2, 2),\n",
    "    tf.keras.layers.Conv2D(32, (3,3), activation='relu'),\n",
    "    tf.keras.layers.MaxPooling2D(2,2),\n",
    "    tf.keras.layers.Conv2D(64, (3,3), activation='relu'),\n",
    "    tf.keras.layers.MaxPooling2D(2,2),\n",
    "    tf.keras.layers.Conv2D(64, (3,3), activation='relu'),\n",
    "    tf.keras.layers.MaxPooling2D(2,2),\n",
    "    tf.keras.layers.Conv2D(64, (3,3), activation='relu'),\n",
    "    tf.keras.layers.MaxPooling2D(2,2),\n",
    "    tf.keras.layers.Flatten(),\n",
    "    tf.keras.layers.Dense(512, activation='relu'),\n",
    "    tf.keras.layers.Dense(1, activation='sigmoid')\n",
    "])\n",
    "\n",
    "model.compile(optimizer='Adam', loss='binary_crossentropy', metrics=['accuracy'])"
   ]
  },
  {
   "cell_type": "code",
   "execution_count": 35,
   "metadata": {},
   "outputs": [
    {
     "name": "stdout",
     "output_type": "stream",
     "text": [
      "Epoch 1/2\n",
      "35/35 [==============================] - 11s 305ms/step - loss: 3.7543e-04 - accuracy: 1.0000 - val_loss: 1.5260 - val_accuracy: 0.8000\n",
      "Epoch 2/2\n"
     ]
    },
    {
     "name": "stderr",
     "output_type": "stream",
     "text": [
      "2022-06-24 22:59:17.952475: W tensorflow/core/kernels/data/cache_dataset_ops.cc:856] The calling iterator did not fully read the dataset being cached. In order to avoid unexpected truncation of the dataset, the partially cached contents of the dataset  will be discarded. This can happen if you have an input pipeline similar to `dataset.cache().take(k).repeat()`. You should use `dataset.take(k).cache().repeat()` instead.\n"
     ]
    },
    {
     "name": "stdout",
     "output_type": "stream",
     "text": [
      "35/35 [==============================] - 10s 298ms/step - loss: 2.9131e-04 - accuracy: 1.0000 - val_loss: 1.5615 - val_accuracy: 0.8000\n"
     ]
    },
    {
     "name": "stderr",
     "output_type": "stream",
     "text": [
      "2022-06-24 22:59:28.414886: W tensorflow/core/kernels/data/cache_dataset_ops.cc:856] The calling iterator did not fully read the dataset being cached. In order to avoid unexpected truncation of the dataset, the partially cached contents of the dataset  will be discarded. This can happen if you have an input pipeline similar to `dataset.cache().take(k).repeat()`. You should use `dataset.take(k).cache().repeat()` instead.\n"
     ]
    }
   ],
   "source": [
    "history = model.fit(data['train'].batch(30) , epochs=2, validation_data=data['test'].batch(5) , validation_steps=1)"
   ]
  },
  {
   "cell_type": "code",
   "execution_count": 39,
   "metadata": {},
   "outputs": [],
   "source": [
    "data = tfds.load('horses_or_humans', split='train+test', as_supervised=True)"
   ]
  },
  {
   "cell_type": "code",
   "execution_count": 8,
   "metadata": {},
   "outputs": [],
   "source": [
    "import os\n",
    "from glob import glob\n",
    "from mat4py import loadmat\n",
    "import pandas as pd"
   ]
  },
  {
   "cell_type": "code",
   "execution_count": 33,
   "metadata": {},
   "outputs": [
    {
     "data": {
      "text/html": [
       "<div>\n",
       "<style scoped>\n",
       "    .dataframe tbody tr th:only-of-type {\n",
       "        vertical-align: middle;\n",
       "    }\n",
       "\n",
       "    .dataframe tbody tr th {\n",
       "        vertical-align: top;\n",
       "    }\n",
       "\n",
       "    .dataframe thead th {\n",
       "        text-align: right;\n",
       "    }\n",
       "</style>\n",
       "<table border=\"1\" class=\"dataframe\">\n",
       "  <thead>\n",
       "    <tr style=\"text-align: right;\">\n",
       "      <th></th>\n",
       "      <th>x</th>\n",
       "      <th>y</th>\n",
       "      <th>z</th>\n",
       "      <th>amplitude</th>\n",
       "      <th>time</th>\n",
       "      <th>index</th>\n",
       "    </tr>\n",
       "  </thead>\n",
       "  <tbody>\n",
       "    <tr>\n",
       "      <th>0</th>\n",
       "      <td>19.2925</td>\n",
       "      <td>-18.7533</td>\n",
       "      <td>3.8838</td>\n",
       "      <td>9</td>\n",
       "      <td>1.504763e+09</td>\n",
       "      <td>2</td>\n",
       "    </tr>\n",
       "    <tr>\n",
       "      <th>1</th>\n",
       "      <td>17.2182</td>\n",
       "      <td>-16.7369</td>\n",
       "      <td>2.1904</td>\n",
       "      <td>5</td>\n",
       "      <td>1.504763e+09</td>\n",
       "      <td>3</td>\n",
       "    </tr>\n",
       "    <tr>\n",
       "      <th>2</th>\n",
       "      <td>17.6723</td>\n",
       "      <td>-17.1784</td>\n",
       "      <td>1.3757</td>\n",
       "      <td>3</td>\n",
       "      <td>1.504763e+09</td>\n",
       "      <td>4</td>\n",
       "    </tr>\n",
       "    <tr>\n",
       "      <th>3</th>\n",
       "      <td>17.5781</td>\n",
       "      <td>-17.0868</td>\n",
       "      <td>0.9345</td>\n",
       "      <td>7</td>\n",
       "      <td>1.504763e+09</td>\n",
       "      <td>5</td>\n",
       "    </tr>\n",
       "    <tr>\n",
       "      <th>4</th>\n",
       "      <td>15.7700</td>\n",
       "      <td>-17.7342</td>\n",
       "      <td>0.7636</td>\n",
       "      <td>7</td>\n",
       "      <td>1.504763e+09</td>\n",
       "      <td>6</td>\n",
       "    </tr>\n",
       "    <tr>\n",
       "      <th>...</th>\n",
       "      <td>...</td>\n",
       "      <td>...</td>\n",
       "      <td>...</td>\n",
       "      <td>...</td>\n",
       "      <td>...</td>\n",
       "      <td>...</td>\n",
       "    </tr>\n",
       "    <tr>\n",
       "      <th>17205</th>\n",
       "      <td>3.5298</td>\n",
       "      <td>-3.3835</td>\n",
       "      <td>-1.0260</td>\n",
       "      <td>2</td>\n",
       "      <td>1.504763e+09</td>\n",
       "      <td>35</td>\n",
       "    </tr>\n",
       "    <tr>\n",
       "      <th>17206</th>\n",
       "      <td>3.2295</td>\n",
       "      <td>-3.0957</td>\n",
       "      <td>-1.0179</td>\n",
       "      <td>3</td>\n",
       "      <td>1.504763e+09</td>\n",
       "      <td>36</td>\n",
       "    </tr>\n",
       "    <tr>\n",
       "      <th>17207</th>\n",
       "      <td>2.9981</td>\n",
       "      <td>-2.8739</td>\n",
       "      <td>-1.0182</td>\n",
       "      <td>3</td>\n",
       "      <td>1.504763e+09</td>\n",
       "      <td>37</td>\n",
       "    </tr>\n",
       "    <tr>\n",
       "      <th>17208</th>\n",
       "      <td>2.1193</td>\n",
       "      <td>-2.0315</td>\n",
       "      <td>-0.9956</td>\n",
       "      <td>4</td>\n",
       "      <td>1.504763e+09</td>\n",
       "      <td>38</td>\n",
       "    </tr>\n",
       "    <tr>\n",
       "      <th>17209</th>\n",
       "      <td>1.5316</td>\n",
       "      <td>-1.4681</td>\n",
       "      <td>-0.9777</td>\n",
       "      <td>3</td>\n",
       "      <td>1.504763e+09</td>\n",
       "      <td>39</td>\n",
       "    </tr>\n",
       "  </tbody>\n",
       "</table>\n",
       "<p>17210 rows × 6 columns</p>\n",
       "</div>"
      ],
      "text/plain": [
       "             x        y       z  amplitude          time  index\n",
       "0      19.2925 -18.7533  3.8838          9  1.504763e+09      2\n",
       "1      17.2182 -16.7369  2.1904          5  1.504763e+09      3\n",
       "2      17.6723 -17.1784  1.3757          3  1.504763e+09      4\n",
       "3      17.5781 -17.0868  0.9345          7  1.504763e+09      5\n",
       "4      15.7700 -17.7342  0.7636          7  1.504763e+09      6\n",
       "...        ...      ...     ...        ...           ...    ...\n",
       "17205   3.5298  -3.3835 -1.0260          2  1.504763e+09     35\n",
       "17206   3.2295  -3.0957 -1.0179          3  1.504763e+09     36\n",
       "17207   2.9981  -2.8739 -1.0182          3  1.504763e+09     37\n",
       "17208   2.1193  -2.0315 -0.9956          4  1.504763e+09     38\n",
       "17209   1.5316  -1.4681 -0.9777          3  1.504763e+09     39\n",
       "\n",
       "[17210 rows x 6 columns]"
      ]
     },
     "execution_count": 33,
     "metadata": {},
     "output_type": "execute_result"
    }
   ],
   "source": [
    "\n",
    "# add column names to this dataframe\n",
    "columns = 'x y z amplitude time index'.split(' ') \n",
    "df = pd.read_csv('0_.txt')\n",
    "df.columns = columns\n",
    "\n",
    "df"
   ]
  },
  {
   "cell_type": "code",
   "execution_count": 51,
   "metadata": {},
   "outputs": [
    {
     "data": {
      "text/plain": [
       "dict_keys(['__header__', '__version__', '__globals__', 'DopInd_2d', 'Dop_out_All2', 'Vel_out_2d', 'Vel_out_All2', 'coeff_out_2d', 'coeff_out_abs_All2', 'mX3', 'mY3', 'mZ3', 'preparam'])"
      ]
     },
     "execution_count": 51,
     "metadata": {},
     "output_type": "execute_result"
    }
   ],
   "source": [
    "import mat4py\n",
    "\n",
    "dir = 'adc_data_1.dat_NewCFAR_v2_dB1_results.mat'\n",
    "\n",
    "# mat4py.loadmat(dir, meta=True)\n",
    "\n",
    "import scipy.io\n",
    "mat = scipy.io.loadmat(dir) \n",
    "\n",
    "mat.keys()"
   ]
  },
  {
   "cell_type": "code",
   "execution_count": null,
   "metadata": {},
   "outputs": [],
   "source": []
  },
  {
   "cell_type": "code",
   "execution_count": 60,
   "metadata": {},
   "outputs": [
    {
     "data": {
      "text/html": [
       "<div>\n",
       "<style scoped>\n",
       "    .dataframe tbody tr th:only-of-type {\n",
       "        vertical-align: middle;\n",
       "    }\n",
       "\n",
       "    .dataframe tbody tr th {\n",
       "        vertical-align: top;\n",
       "    }\n",
       "\n",
       "    .dataframe thead th {\n",
       "        text-align: right;\n",
       "    }\n",
       "</style>\n",
       "<table border=\"1\" class=\"dataframe\">\n",
       "  <thead>\n",
       "    <tr style=\"text-align: right;\">\n",
       "      <th></th>\n",
       "      <th>0</th>\n",
       "    </tr>\n",
       "  </thead>\n",
       "  <tbody>\n",
       "    <tr>\n",
       "      <th>lib_only4debug</th>\n",
       "      <td>[[[[[16]\\n [12]\\n [ 8]\\n [ 4]\\n [13]\\n [ 9]\\n ...</td>\n",
       "    </tr>\n",
       "    <tr>\n",
       "      <th>ScaWin_r</th>\n",
       "      <td>[[1023.4999999999998]]</td>\n",
       "    </tr>\n",
       "    <tr>\n",
       "      <th>ScaWin_dop_1</th>\n",
       "      <td>[[255.49999999999997]]</td>\n",
       "    </tr>\n",
       "    <tr>\n",
       "      <th>ScaWin_dop_2</th>\n",
       "      <td>[[199.5]]</td>\n",
       "    </tr>\n",
       "    <tr>\n",
       "      <th>BrdMs_FuSca</th>\n",
       "      <td>[[10000]]</td>\n",
       "    </tr>\n",
       "    <tr>\n",
       "      <th>rangecomp1_order</th>\n",
       "      <td>[[0.5]]</td>\n",
       "    </tr>\n",
       "    <tr>\n",
       "      <th>scale1_rng_1</th>\n",
       "      <td>[[0.0], [0.020945072881422243], [0.02962080613...</td>\n",
       "    </tr>\n",
       "    <tr>\n",
       "      <th>scale1_rng_2</th>\n",
       "      <td>[[0.0], [0.026824391584979363], [0.03793541838...</td>\n",
       "    </tr>\n",
       "    <tr>\n",
       "      <th>scale2_tx_rx</th>\n",
       "      <td>[[0.011804500396082634, 0.0128115624386479, 0....</td>\n",
       "    </tr>\n",
       "    <tr>\n",
       "      <th>NchRed</th>\n",
       "      <td>[[7]]</td>\n",
       "    </tr>\n",
       "    <tr>\n",
       "      <th>libred_re</th>\n",
       "      <td>[[0.03478512324928427, 0.03939259205967796, 0....</td>\n",
       "    </tr>\n",
       "    <tr>\n",
       "      <th>libred_im</th>\n",
       "      <td>[[4.1386670358980116e-19, 6.46035829993836e-19...</td>\n",
       "    </tr>\n",
       "    <tr>\n",
       "      <th>ChStart_MIMO</th>\n",
       "      <td>[[1], [1], [1], [1], [1], [1], [1], [1], [1], ...</td>\n",
       "    </tr>\n",
       "    <tr>\n",
       "      <th>ChEnd_MIMO</th>\n",
       "      <td>[[4], [4], [4], [4], [4], [4], [4], [4], [4], ...</td>\n",
       "    </tr>\n",
       "    <tr>\n",
       "      <th>ChUsed_MIMO</th>\n",
       "      <td>[[4], [4], [4], [4], [4], [4], [4], [4], [4], ...</td>\n",
       "    </tr>\n",
       "    <tr>\n",
       "      <th>sita_bias_refined</th>\n",
       "      <td>[[0]]</td>\n",
       "    </tr>\n",
       "    <tr>\n",
       "      <th>ele_bias_refined</th>\n",
       "      <td>[[0]]</td>\n",
       "    </tr>\n",
       "    <tr>\n",
       "      <th>ph_sys_angle</th>\n",
       "      <td>[[1.1103662884231238, -1.502349139262712, 2.05...</td>\n",
       "    </tr>\n",
       "    <tr>\n",
       "      <th>num_train</th>\n",
       "      <td>[[7]]</td>\n",
       "    </tr>\n",
       "    <tr>\n",
       "      <th>num_guard</th>\n",
       "      <td>[[1]]</td>\n",
       "    </tr>\n",
       "    <tr>\n",
       "      <th>rate_fa</th>\n",
       "      <td>[[0.005]]</td>\n",
       "    </tr>\n",
       "    <tr>\n",
       "      <th>num_train_half</th>\n",
       "      <td>[[4]]</td>\n",
       "    </tr>\n",
       "    <tr>\n",
       "      <th>num_guard_half</th>\n",
       "      <td>[[1]]</td>\n",
       "    </tr>\n",
       "    <tr>\n",
       "      <th>num_side</th>\n",
       "      <td>[[5]]</td>\n",
       "    </tr>\n",
       "    <tr>\n",
       "      <th>alpha</th>\n",
       "      <td>[[7.921641815736892]]</td>\n",
       "    </tr>\n",
       "    <tr>\n",
       "      <th>thr</th>\n",
       "      <td>[[12.0, 11.97368759375, 11.94725075, 11.920690...</td>\n",
       "    </tr>\n",
       "    <tr>\n",
       "      <th>NRan</th>\n",
       "      <td>[[1024]]</td>\n",
       "    </tr>\n",
       "    <tr>\n",
       "      <th>NDop_2</th>\n",
       "      <td>[[400]]</td>\n",
       "    </tr>\n",
       "    <tr>\n",
       "      <th>NDop</th>\n",
       "      <td>[[512]]</td>\n",
       "    </tr>\n",
       "    <tr>\n",
       "      <th>NRx</th>\n",
       "      <td>[[16]]</td>\n",
       "    </tr>\n",
       "    <tr>\n",
       "      <th>NTx</th>\n",
       "      <td>[[12]]</td>\n",
       "    </tr>\n",
       "    <tr>\n",
       "      <th>NFFTVel</th>\n",
       "      <td>[[512]]</td>\n",
       "    </tr>\n",
       "    <tr>\n",
       "      <th>NTx_ddma</th>\n",
       "      <td>[[1]]</td>\n",
       "    </tr>\n",
       "    <tr>\n",
       "      <th>NTx_2</th>\n",
       "      <td>[[12]]</td>\n",
       "    </tr>\n",
       "    <tr>\n",
       "      <th>NFFTVel_2</th>\n",
       "      <td>[[400]]</td>\n",
       "    </tr>\n",
       "    <tr>\n",
       "      <th>NTx_2_ddma</th>\n",
       "      <td>[[1]]</td>\n",
       "    </tr>\n",
       "    <tr>\n",
       "      <th>Nang</th>\n",
       "      <td>[[2420]]</td>\n",
       "    </tr>\n",
       "    <tr>\n",
       "      <th>anginduse</th>\n",
       "      <td>[[1, 2, 3, 4, 5, 6, 7, 8, 9, 10, 11, 12, 13, 1...</td>\n",
       "    </tr>\n",
       "    <tr>\n",
       "      <th>Nele</th>\n",
       "      <td>[[20]]</td>\n",
       "    </tr>\n",
       "    <tr>\n",
       "      <th>Nazi</th>\n",
       "      <td>[[121]]</td>\n",
       "    </tr>\n",
       "    <tr>\n",
       "      <th>Flag_1G</th>\n",
       "      <td>[[0]]</td>\n",
       "    </tr>\n",
       "    <tr>\n",
       "      <th>vRange</th>\n",
       "      <td>[[0.0], [0.3], [0.6], [0.9], [1.2], [1.5], [1....</td>\n",
       "    </tr>\n",
       "  </tbody>\n",
       "</table>\n",
       "</div>"
      ],
      "text/plain": [
       "                                                                   0\n",
       "lib_only4debug     [[[[[16]\\n [12]\\n [ 8]\\n [ 4]\\n [13]\\n [ 9]\\n ...\n",
       "ScaWin_r                                      [[1023.4999999999998]]\n",
       "ScaWin_dop_1                                  [[255.49999999999997]]\n",
       "ScaWin_dop_2                                               [[199.5]]\n",
       "BrdMs_FuSca                                                [[10000]]\n",
       "rangecomp1_order                                             [[0.5]]\n",
       "scale1_rng_1       [[0.0], [0.020945072881422243], [0.02962080613...\n",
       "scale1_rng_2       [[0.0], [0.026824391584979363], [0.03793541838...\n",
       "scale2_tx_rx       [[0.011804500396082634, 0.0128115624386479, 0....\n",
       "NchRed                                                         [[7]]\n",
       "libred_re          [[0.03478512324928427, 0.03939259205967796, 0....\n",
       "libred_im          [[4.1386670358980116e-19, 6.46035829993836e-19...\n",
       "ChStart_MIMO       [[1], [1], [1], [1], [1], [1], [1], [1], [1], ...\n",
       "ChEnd_MIMO         [[4], [4], [4], [4], [4], [4], [4], [4], [4], ...\n",
       "ChUsed_MIMO        [[4], [4], [4], [4], [4], [4], [4], [4], [4], ...\n",
       "sita_bias_refined                                              [[0]]\n",
       "ele_bias_refined                                               [[0]]\n",
       "ph_sys_angle       [[1.1103662884231238, -1.502349139262712, 2.05...\n",
       "num_train                                                      [[7]]\n",
       "num_guard                                                      [[1]]\n",
       "rate_fa                                                    [[0.005]]\n",
       "num_train_half                                                 [[4]]\n",
       "num_guard_half                                                 [[1]]\n",
       "num_side                                                       [[5]]\n",
       "alpha                                          [[7.921641815736892]]\n",
       "thr                [[12.0, 11.97368759375, 11.94725075, 11.920690...\n",
       "NRan                                                        [[1024]]\n",
       "NDop_2                                                       [[400]]\n",
       "NDop                                                         [[512]]\n",
       "NRx                                                           [[16]]\n",
       "NTx                                                           [[12]]\n",
       "NFFTVel                                                      [[512]]\n",
       "NTx_ddma                                                       [[1]]\n",
       "NTx_2                                                         [[12]]\n",
       "NFFTVel_2                                                    [[400]]\n",
       "NTx_2_ddma                                                     [[1]]\n",
       "Nang                                                        [[2420]]\n",
       "anginduse          [[1, 2, 3, 4, 5, 6, 7, 8, 9, 10, 11, 12, 13, 1...\n",
       "Nele                                                          [[20]]\n",
       "Nazi                                                         [[121]]\n",
       "Flag_1G                                                        [[0]]\n",
       "vRange             [[0.0], [0.3], [0.6], [0.9], [1.2], [1.5], [1...."
      ]
     },
     "execution_count": 60,
     "metadata": {},
     "output_type": "execute_result"
    }
   ],
   "source": [
    "meta_data = pd.DataFrame(mat['preparam'][0]).T\n",
    "\n",
    "meta_data"
   ]
  },
  {
   "cell_type": "code",
   "execution_count": 58,
   "metadata": {},
   "outputs": [
    {
     "data": {
      "text/plain": [
       "1"
      ]
     },
     "execution_count": 58,
     "metadata": {},
     "output_type": "execute_result"
    }
   ],
   "source": []
  },
  {
   "cell_type": "markdown",
   "metadata": {},
   "source": []
  }
 ],
 "metadata": {
  "kernelspec": {
   "display_name": "Python 3.9.5 ('base')",
   "language": "python",
   "name": "python3"
  },
  "language_info": {
   "codemirror_mode": {
    "name": "ipython",
    "version": 3
   },
   "file_extension": ".py",
   "mimetype": "text/x-python",
   "name": "python",
   "nbconvert_exporter": "python",
   "pygments_lexer": "ipython3",
   "version": "3.9.5"
  },
  "orig_nbformat": 4,
  "vscode": {
   "interpreter": {
    "hash": "d4d1e4263499bec80672ea0156c357c1ee493ec2b1c70f0acce89fc37c4a6abe"
   }
  }
 },
 "nbformat": 4,
 "nbformat_minor": 2
}
