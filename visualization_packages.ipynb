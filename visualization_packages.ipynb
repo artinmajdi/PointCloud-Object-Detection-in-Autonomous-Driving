{
 "cells": [
  {
   "cell_type": "code",
   "execution_count": null,
   "metadata": {},
   "outputs": [],
   "source": [
    "import pkg_resources\n",
    "import pip\n",
    "\n",
    "def inspect_packages(packages_list):\n",
    "\n",
    "    for package in packages_list:\n",
    "        try:\n",
    "            pkg_resources.require(package)\n",
    "            print( f'package {package} is installed')\n",
    "        except:\n",
    "            pip.main( ['install' , package] )\n",
    "            \n",
    "            \n",
    "inspect_packages(['pyntcloud', 'open3d', 'pyvista', 'pcl', 'numpy', 'matplotlib'])"
   ]
  },
  {
   "cell_type": "code",
   "execution_count": null,
   "metadata": {},
   "outputs": [],
   "source": [
    "import pyntcloud\n",
    "import open3d\n",
    "import pyvista\n",
    "import pcl\n",
    "import pkg_resources"
   ]
  }
 ],
 "metadata": {
  "kernelspec": {
   "display_name": "Python 3.7.13 ('pointcloud_packages')",
   "language": "python",
   "name": "python3"
  },
  "language_info": {
   "name": "python",
   "version": "3.7.13"
  },
  "orig_nbformat": 4,
  "vscode": {
   "interpreter": {
    "hash": "0b59d3ee4a9eed54773a742c22389027ef3b4c3a05f1143676fda04a4472b794"
   }
  }
 },
 "nbformat": 4,
 "nbformat_minor": 2
}
