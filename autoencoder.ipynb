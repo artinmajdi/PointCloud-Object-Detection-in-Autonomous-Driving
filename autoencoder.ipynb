{
 "cells": [
  {
   "cell_type": "markdown",
   "metadata": {},
   "source": [
    "# Importing packages"
   ]
  },
  {
   "cell_type": "markdown",
   "metadata": {},
   "source": [
    "## Setup"
   ]
  },
  {
   "cell_type": "code",
   "execution_count": 1,
   "metadata": {},
   "outputs": [
    {
     "name": "stdout",
     "output_type": "stream",
     "text": [
      "Jupyter environment detected. Enabling Open3D WebVisualizer.\n",
      "[Open3D INFO] WebRTC GUI backend enabled.\n",
      "[Open3D INFO] WebRTCWindowSystem: HTTP handshake server disabled.\n"
     ]
    },
    {
     "name": "stderr",
     "output_type": "stream",
     "text": [
      "2022-07-14 15:59:37.204478: I tensorflow/core/util/util.cc:169] oneDNN custom operations are on. You may see slightly different numerical results due to floating-point round-off errors from different computation orders. To turn them off, set the environment variable `TF_ENABLE_ONEDNN_OPTS=0`.\n"
     ]
    }
   ],
   "source": [
    "%reload_ext autoreload\n",
    "%autoreload 2\n",
    "\n",
    "import numpy as np\n",
    "import matplotlib.pyplot as plt\n",
    "import pandas as pd\n",
    "import open3d\n",
    "import pptk\n",
    "from logging import raiseExceptions\n",
    "import seaborn as sns\n",
    "import funcs\n",
    "import tensorflow as tf\n",
    "\n",
    "%reload_ext funcs\n"
   ]
  },
  {
   "cell_type": "markdown",
   "metadata": {},
   "source": [
    "## Data loader"
   ]
  },
  {
   "cell_type": "code",
   "execution_count": 2,
   "metadata": {},
   "outputs": [
    {
     "name": "stdout",
     "output_type": "stream",
     "text": [
      "original dataframe size (1066, 18)\n",
      " dataframe (688, 4)\n"
     ]
    },
    {
     "data": {
      "text/plain": [
       "<matplotlib.image.AxesImage at 0x7ff99ce19990>"
      ]
     },
     "execution_count": 2,
     "metadata": {},
     "output_type": "execute_result"
    },
    {
     "data": {
      "image/png": "[encoded data removed]",
      "text/plain": [
       "<Figure size 3600x720 with 1 Axes>"
      ]
     },
     "metadata": {
      "needs_background": "light"
     },
     "output_type": "display_data"
    }
   ],
   "source": [
    "dataloader = funcs.DataLoader(modality='Radar' , data_type='matrix')\n",
    "dataloader.get_data(filename='1_.txt')\n",
    "\n",
    "print('original dataframe size', dataloader.dataframe_original.shape)\n",
    "print(' dataframe',  dataloader.dataframe.shape )\n",
    "\n",
    "plt.figure(figsize=(50,10))\n",
    "plt.imshow(dataloader.data_matrix[:,:,0] / dataloader.data_matrix[:,:,0].max() )"
   ]
  },
  {
   "cell_type": "code",
   "execution_count": 3,
   "metadata": {},
   "outputs": [
    {
     "data": {
      "text/html": [
       "<div>\n",
       "<style scoped>\n",
       "    .dataframe tbody tr th:only-of-type {\n",
       "        vertical-align: middle;\n",
       "    }\n",
       "\n",
       "    .dataframe tbody tr th {\n",
       "        vertical-align: top;\n",
       "    }\n",
       "\n",
       "    .dataframe thead th {\n",
       "        text-align: right;\n",
       "    }\n",
       "</style>\n",
       "<table border=\"1\" class=\"dataframe\">\n",
       "  <thead>\n",
       "    <tr style=\"text-align: right;\">\n",
       "      <th></th>\n",
       "      <th>Range</th>\n",
       "      <th>Azimuth</th>\n",
       "      <th>Elevation</th>\n",
       "      <th>RCS</th>\n",
       "    </tr>\n",
       "  </thead>\n",
       "  <tbody>\n",
       "    <tr>\n",
       "      <th>0</th>\n",
       "      <td>1</td>\n",
       "      <td>31</td>\n",
       "      <td>16</td>\n",
       "      <td>85</td>\n",
       "    </tr>\n",
       "    <tr>\n",
       "      <th>1</th>\n",
       "      <td>1</td>\n",
       "      <td>54</td>\n",
       "      <td>2</td>\n",
       "      <td>43</td>\n",
       "    </tr>\n",
       "    <tr>\n",
       "      <th>2</th>\n",
       "      <td>1</td>\n",
       "      <td>55</td>\n",
       "      <td>2</td>\n",
       "      <td>41</td>\n",
       "    </tr>\n",
       "    <tr>\n",
       "      <th>3</th>\n",
       "      <td>1</td>\n",
       "      <td>56</td>\n",
       "      <td>8</td>\n",
       "      <td>40</td>\n",
       "    </tr>\n",
       "    <tr>\n",
       "      <th>6</th>\n",
       "      <td>1</td>\n",
       "      <td>57</td>\n",
       "      <td>16</td>\n",
       "      <td>41</td>\n",
       "    </tr>\n",
       "    <tr>\n",
       "      <th>...</th>\n",
       "      <td>...</td>\n",
       "      <td>...</td>\n",
       "      <td>...</td>\n",
       "      <td>...</td>\n",
       "    </tr>\n",
       "    <tr>\n",
       "      <th>1059</th>\n",
       "      <td>485</td>\n",
       "      <td>40</td>\n",
       "      <td>2</td>\n",
       "      <td>56</td>\n",
       "    </tr>\n",
       "    <tr>\n",
       "      <th>1060</th>\n",
       "      <td>496</td>\n",
       "      <td>44</td>\n",
       "      <td>0</td>\n",
       "      <td>61</td>\n",
       "    </tr>\n",
       "    <tr>\n",
       "      <th>1061</th>\n",
       "      <td>497</td>\n",
       "      <td>47</td>\n",
       "      <td>12</td>\n",
       "      <td>63</td>\n",
       "    </tr>\n",
       "    <tr>\n",
       "      <th>1063</th>\n",
       "      <td>499</td>\n",
       "      <td>46</td>\n",
       "      <td>16</td>\n",
       "      <td>62</td>\n",
       "    </tr>\n",
       "    <tr>\n",
       "      <th>1065</th>\n",
       "      <td>511</td>\n",
       "      <td>40</td>\n",
       "      <td>0</td>\n",
       "      <td>58</td>\n",
       "    </tr>\n",
       "  </tbody>\n",
       "</table>\n",
       "<p>688 rows × 4 columns</p>\n",
       "</div>"
      ],
      "text/plain": [
       "      Range  Azimuth  Elevation  RCS\n",
       "0         1       31         16   85\n",
       "1         1       54          2   43\n",
       "2         1       55          2   41\n",
       "3         1       56          8   40\n",
       "6         1       57         16   41\n",
       "...     ...      ...        ...  ...\n",
       "1059    485       40          2   56\n",
       "1060    496       44          0   61\n",
       "1061    497       47         12   63\n",
       "1063    499       46         16   62\n",
       "1065    511       40          0   58\n",
       "\n",
       "[688 rows x 4 columns]"
      ]
     },
     "execution_count": 3,
     "metadata": {},
     "output_type": "execute_result"
    }
   ],
   "source": [
    "x,y,z = dataloader.spherical_to_cartesian( Azimuth_Angle=dataloader.dataframe.Azimuth , Elevation_Angle=dataloader.dataframe.Elevation - 10 , Range=dataloader.dataframe.Range )\n",
    "\n",
    "# plt.hist(z)\n",
    "\n",
    "dataloader.dataframe"
   ]
  },
  {
   "cell_type": "code",
   "execution_count": 4,
   "metadata": {},
   "outputs": [],
   "source": [
    "# dataloader.dataframe_original"
   ]
  },
  {
   "cell_type": "markdown",
   "metadata": {},
   "source": [
    "## <span style=\"color:orange; font-size:0.8em\"> Viewing the point clouds </span>"
   ]
  },
  {
   "cell_type": "code",
   "execution_count": 5,
   "metadata": {},
   "outputs": [],
   "source": [
    "columns = dataloader.dataframe.columns[:3]\n",
    "\n",
    "# funcs.DataLoader().visualize(points=dataloader.dataframe[columns])"
   ]
  },
  {
   "cell_type": "code",
   "execution_count": 6,
   "metadata": {},
   "outputs": [
    {
     "data": {
      "text/html": [
       "<div>\n",
       "<style scoped>\n",
       "    .dataframe tbody tr th:only-of-type {\n",
       "        vertical-align: middle;\n",
       "    }\n",
       "\n",
       "    .dataframe tbody tr th {\n",
       "        vertical-align: top;\n",
       "    }\n",
       "\n",
       "    .dataframe thead th {\n",
       "        text-align: right;\n",
       "    }\n",
       "</style>\n",
       "<table border=\"1\" class=\"dataframe\">\n",
       "  <thead>\n",
       "    <tr style=\"text-align: right;\">\n",
       "      <th></th>\n",
       "      <th>Range</th>\n",
       "      <th>Azimuth</th>\n",
       "      <th>Elevation</th>\n",
       "    </tr>\n",
       "  </thead>\n",
       "  <tbody>\n",
       "    <tr>\n",
       "      <th>0</th>\n",
       "      <td>1</td>\n",
       "      <td>31</td>\n",
       "      <td>16</td>\n",
       "    </tr>\n",
       "    <tr>\n",
       "      <th>1</th>\n",
       "      <td>1</td>\n",
       "      <td>54</td>\n",
       "      <td>2</td>\n",
       "    </tr>\n",
       "    <tr>\n",
       "      <th>2</th>\n",
       "      <td>1</td>\n",
       "      <td>55</td>\n",
       "      <td>2</td>\n",
       "    </tr>\n",
       "    <tr>\n",
       "      <th>3</th>\n",
       "      <td>1</td>\n",
       "      <td>56</td>\n",
       "      <td>8</td>\n",
       "    </tr>\n",
       "    <tr>\n",
       "      <th>6</th>\n",
       "      <td>1</td>\n",
       "      <td>57</td>\n",
       "      <td>16</td>\n",
       "    </tr>\n",
       "    <tr>\n",
       "      <th>...</th>\n",
       "      <td>...</td>\n",
       "      <td>...</td>\n",
       "      <td>...</td>\n",
       "    </tr>\n",
       "    <tr>\n",
       "      <th>1059</th>\n",
       "      <td>485</td>\n",
       "      <td>40</td>\n",
       "      <td>2</td>\n",
       "    </tr>\n",
       "    <tr>\n",
       "      <th>1060</th>\n",
       "      <td>496</td>\n",
       "      <td>44</td>\n",
       "      <td>0</td>\n",
       "    </tr>\n",
       "    <tr>\n",
       "      <th>1061</th>\n",
       "      <td>497</td>\n",
       "      <td>47</td>\n",
       "      <td>12</td>\n",
       "    </tr>\n",
       "    <tr>\n",
       "      <th>1063</th>\n",
       "      <td>499</td>\n",
       "      <td>46</td>\n",
       "      <td>16</td>\n",
       "    </tr>\n",
       "    <tr>\n",
       "      <th>1065</th>\n",
       "      <td>511</td>\n",
       "      <td>40</td>\n",
       "      <td>0</td>\n",
       "    </tr>\n",
       "  </tbody>\n",
       "</table>\n",
       "<p>688 rows × 3 columns</p>\n",
       "</div>"
      ],
      "text/plain": [
       "      Range  Azimuth  Elevation\n",
       "0         1       31         16\n",
       "1         1       54          2\n",
       "2         1       55          2\n",
       "3         1       56          8\n",
       "6         1       57         16\n",
       "...     ...      ...        ...\n",
       "1059    485       40          2\n",
       "1060    496       44          0\n",
       "1061    497       47         12\n",
       "1063    499       46         16\n",
       "1065    511       40          0\n",
       "\n",
       "[688 rows x 3 columns]"
      ]
     },
     "execution_count": 6,
     "metadata": {},
     "output_type": "execute_result"
    }
   ],
   "source": [
    "dataloader.dataframe[columns]"
   ]
  },
  {
   "cell_type": "markdown",
   "metadata": {},
   "source": [
    "## <span style=\"color:orange; font-size:0.8em\"> Vector Input </span>"
   ]
  },
  {
   "cell_type": "code",
   "execution_count": 7,
   "metadata": {},
   "outputs": [],
   "source": [
    "# loader = funcs.VectorInput(filename='1_.txt', modality='Radar')\n",
    "\n",
    "# print(loader.dataframe.shape)\n",
    "# print(loader.data.test.shape)"
   ]
  },
  {
   "cell_type": "markdown",
   "metadata": {},
   "source": [
    "## <span style=\"color:orange; font-size:0.8em\"> Matrix Input </span>"
   ]
  },
  {
   "cell_type": "code",
   "execution_count": 8,
   "metadata": {},
   "outputs": [
    {
     "name": "stderr",
     "output_type": "stream",
     "text": [
      "Loading the dataset: 1683it [00:56, 29.97it/s]\n",
      "2022-07-14 16:00:35.870775: I tensorflow/stream_executor/cuda/cuda_gpu_executor.cc:975] successful NUMA node read from SysFS had negative value (-1), but there must be at least one NUMA node, so returning NUMA node zero\n",
      "2022-07-14 16:00:35.907896: W tensorflow/stream_executor/platform/default/dso_loader.cc:64] Could not load dynamic library 'libcudnn.so.8'; dlerror: libcudnn.so.8: cannot open shared object file: No such file or directory\n",
      "2022-07-14 16:00:35.907915: W tensorflow/core/common_runtime/gpu/gpu_device.cc:1850] Cannot dlopen some GPU libraries. Please make sure the missing libraries mentioned above are installed properly if you would like to use GPU. Follow the guide at https://www.tensorflow.org/install/gpu for how to download and setup the required libraries for your platform.\n",
      "Skipping registering GPU devices...\n",
      "2022-07-14 16:00:35.908633: I tensorflow/core/platform/cpu_feature_guard.cc:193] This TensorFlow binary is optimized with oneAPI Deep Neural Network Library (oneDNN) to use the following CPU instructions in performance-critical operations:  AVX2 AVX512F AVX512_VNNI FMA\n",
      "To enable them in other operations, rebuild TensorFlow with the appropriate compiler flags.\n"
     ]
    },
    {
     "name": "stdout",
     "output_type": "stream",
     "text": [
      "Epoch 1/30\n",
      "106/106 [==============================] - 3s 20ms/step - loss: 0.3393 - val_loss: 0.2039\n",
      "Epoch 2/30\n",
      "106/106 [==============================] - 2s 19ms/step - loss: 0.1603 - val_loss: 0.1667\n",
      "Epoch 3/30\n",
      "106/106 [==============================] - 2s 18ms/step - loss: 0.1470 - val_loss: 0.1461\n",
      "Epoch 4/30\n",
      "106/106 [==============================] - 2s 18ms/step - loss: 0.1384 - val_loss: 0.1354\n",
      "Epoch 5/30\n",
      "106/106 [==============================] - 2s 19ms/step - loss: 0.1322 - val_loss: 0.1300\n",
      "Epoch 6/30\n",
      "106/106 [==============================] - 2s 18ms/step - loss: 0.1271 - val_loss: 0.1256\n",
      "Epoch 7/30\n",
      "106/106 [==============================] - 2s 18ms/step - loss: 0.1235 - val_loss: 0.1223\n",
      "Epoch 8/30\n",
      "106/106 [==============================] - 2s 18ms/step - loss: 0.1208 - val_loss: 0.1199\n",
      "Epoch 9/30\n",
      "106/106 [==============================] - 2s 18ms/step - loss: 0.1187 - val_loss: 0.1182\n",
      "Epoch 10/30\n",
      "106/106 [==============================] - 2s 19ms/step - loss: 0.1168 - val_loss: 0.1164\n",
      "Epoch 11/30\n",
      "106/106 [==============================] - 2s 18ms/step - loss: 0.1153 - val_loss: 0.1152\n",
      "Epoch 12/30\n",
      "106/106 [==============================] - 2s 20ms/step - loss: 0.1140 - val_loss: 0.1137\n",
      "Epoch 13/30\n",
      "106/106 [==============================] - 2s 20ms/step - loss: 0.1129 - val_loss: 0.1127\n",
      "Epoch 14/30\n",
      "106/106 [==============================] - 2s 18ms/step - loss: 0.1121 - val_loss: 0.1119\n",
      "Epoch 15/30\n",
      "106/106 [==============================] - 2s 18ms/step - loss: 0.1113 - val_loss: 0.1112\n",
      "Epoch 16/30\n",
      "106/106 [==============================] - 2s 20ms/step - loss: 0.1105 - val_loss: 0.1105\n",
      "Epoch 17/30\n",
      "106/106 [==============================] - 2s 19ms/step - loss: 0.1099 - val_loss: 0.1099\n",
      "Epoch 18/30\n",
      "106/106 [==============================] - 2s 18ms/step - loss: 0.1094 - val_loss: 0.1092\n",
      "Epoch 19/30\n",
      "106/106 [==============================] - 2s 17ms/step - loss: 0.1089 - val_loss: 0.1088\n",
      "Epoch 20/30\n",
      "106/106 [==============================] - 2s 17ms/step - loss: 0.1085 - val_loss: 0.1083\n",
      "Epoch 21/30\n",
      "106/106 [==============================] - 2s 20ms/step - loss: 0.1081 - val_loss: 0.1081\n",
      "Epoch 22/30\n",
      "106/106 [==============================] - 2s 19ms/step - loss: 0.1077 - val_loss: 0.1078\n",
      "Epoch 23/30\n",
      "106/106 [==============================] - 2s 19ms/step - loss: 0.1073 - val_loss: 0.1076\n",
      "Epoch 24/30\n",
      "106/106 [==============================] - 2s 19ms/step - loss: 0.1070 - val_loss: 0.1068\n",
      "Epoch 25/30\n",
      "106/106 [==============================] - 2s 19ms/step - loss: 0.1067 - val_loss: 0.1067\n",
      "Epoch 26/30\n",
      "106/106 [==============================] - 2s 19ms/step - loss: 0.1064 - val_loss: 0.1063\n",
      "Epoch 27/30\n",
      "106/106 [==============================] - 2s 22ms/step - loss: 0.1061 - val_loss: 0.1060\n",
      "Epoch 28/30\n",
      "106/106 [==============================] - 2s 21ms/step - loss: 0.1058 - val_loss: 0.1056\n",
      "Epoch 29/30\n",
      "106/106 [==============================] - 2s 19ms/step - loss: 0.1056 - val_loss: 0.1055\n",
      "Epoch 30/30\n",
      "106/106 [==============================] - 2s 19ms/step - loss: 0.1053 - val_loss: 0.1052\n",
      "53/53 [==============================] - 0s 5ms/step\n"
     ]
    }
   ],
   "source": [
    "loader = funcs.MatrixInput(modality='Radar')"
   ]
  },
  {
   "cell_type": "code",
   "execution_count": 9,
   "metadata": {},
   "outputs": [
    {
     "data": {
      "text/plain": [
       "(<AxesSubplot:title={'center':'input'}>,\n",
       " <matplotlib.image.AxesImage at 0x7ff892752ad0>,\n",
       " Text(0.5, 1.0, 'input'))"
      ]
     },
     "execution_count": 9,
     "metadata": {},
     "output_type": "execute_result"
    },
    {
     "data": {
      "image/png": "[encoded data removed]",
      "text/plain": [
       "<Figure size 1440x360 with 2 Axes>"
      ]
     },
     "metadata": {
      "needs_background": "light"
     },
     "output_type": "display_data"
    }
   ],
   "source": [
    "sample_ix = 10\n",
    "channel = 1\n",
    "\n",
    "plt.figure(figsize=(20,5))\n",
    "plt.subplot(211), plt.imshow(loader.predictions[sample_ix,:,:,channel]), plt.title(\"Predictions\", fontsize=15)\n",
    "plt.subplot(212), plt.imshow(loader.dataset[sample_ix,:,:,channel]), plt.title(\"input\", fontsize=15)"
   ]
  },
  {
   "cell_type": "code",
   "execution_count": 11,
   "metadata": {},
   "outputs": [],
   "source": [
    "sample_ix = 10\n",
    "\n",
    "\n",
    "# sample = loader.dataset[sample_ix,...]\n",
    "sample = loader.predictions[sample_ix,...]\n",
    "\n",
    "\n",
    "\n",
    "pred = loader.extract_spherical_coordinates(sample)\n",
    "\n",
    "loader.visualize(points=pred, method='open3d')"
   ]
  },
  {
   "cell_type": "code",
   "execution_count": 12,
   "metadata": {},
   "outputs": [],
   "source": [
    "from scipy.io import loadmat"
   ]
  },
  {
   "cell_type": "code",
   "execution_count": 21,
   "metadata": {},
   "outputs": [],
   "source": [
    "out = loadmat('/home/artin/Documents/coordinates.mat')"
   ]
  },
  {
   "cell_type": "code",
   "execution_count": 33,
   "metadata": {},
   "outputs": [],
   "source": [
    "points = np.array([out['x'],out['y'],out['z']])\n",
    "\n",
    "pcd = open3d.geometry.PointCloud()\n",
    "pcd.points = open3d.utility.Vector3dVector(points[...,0].T)\n",
    "open3d.visualization.draw_geometries([pcd])"
   ]
  },
  {
   "cell_type": "code",
   "execution_count": 35,
   "metadata": {},
   "outputs": [],
   "source": [
    "points = np.array([out['xr'],out['yr'],out['zr']])\n",
    "\n",
    "pcd = open3d.geometry.PointCloud()\n",
    "pcd.points = open3d.utility.Vector3dVector(points[...,0].T)\n",
    "open3d.visualization.draw_geometries([pcd])"
   ]
  }
 ],
 "metadata": {
  "kernelspec": {
   "display_name": "Python 3.7.13 ('autoencoder')",
   "language": "python",
   "name": "python3"
  },
  "language_info": {
   "codemirror_mode": {
    "name": "ipython",
    "version": 3
   },
   "file_extension": ".py",
   "mimetype": "text/x-python",
   "name": "python",
   "nbconvert_exporter": "python",
   "pygments_lexer": "ipython3",
   "version": "3.7.13"
  },
  "orig_nbformat": 4,
  "vscode": {
   "interpreter": {
    "hash": "54012e1f293dab572bba3f57e10fa4027aa2cc0dbccc79422e4471319ef5ee88"
   }
  }
 },
 "nbformat": 4,
 "nbformat_minor": 2
}
