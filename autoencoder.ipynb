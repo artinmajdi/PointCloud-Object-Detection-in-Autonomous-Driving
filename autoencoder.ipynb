{
 "cells": [
  {
   "cell_type": "markdown",
   "metadata": {},
   "source": [
    "# Importing packages"
   ]
  },
  {
   "cell_type": "markdown",
   "metadata": {},
   "source": [
    "## Setup"
   ]
  },
  {
   "cell_type": "code",
   "execution_count": 1,
   "metadata": {},
   "outputs": [
    {
     "name": "stdout",
     "output_type": "stream",
     "text": [
      "Jupyter environment detected. Enabling Open3D WebVisualizer.\n",
      "[Open3D INFO] WebRTC GUI backend enabled.\n",
      "[Open3D INFO] WebRTCWindowSystem: HTTP handshake server disabled.\n"
     ]
    }
   ],
   "source": [
    "%reload_ext autoreload\n",
    "%autoreload 2\n",
    "\n",
    "import numpy as np\n",
    "import matplotlib.pyplot as plt\n",
    "import pandas as pd\n",
    "import open3d\n",
    "import pptk\n",
    "from logging import raiseExceptions\n",
    "import seaborn as sns\n",
    "import funcs\n",
    "import tensorflow as tf\n",
    "\n",
    "%reload_ext funcs\n"
   ]
  },
  {
   "cell_type": "markdown",
   "metadata": {},
   "source": [
    "## Data loader"
   ]
  },
  {
   "cell_type": "code",
   "execution_count": 2,
   "metadata": {},
   "outputs": [],
   "source": [
    "# def toSpherical(df):\n",
    "\n",
    "#     theta = np.arctan2(np.sqrt(df['-X']**2 + df['Y']**2), df['Z'])\n",
    "\n",
    "#     phi = np.arctan2(df['Y'],  df['-X'])\n",
    "\n",
    "#     r = np.sqrt(df['-X']**2 + df['Y']**2 + df['Z']**2)\n",
    "\n",
    "#     return (r, theta, phi)\n",
    "\n",
    "# def toCartesian(df):\n",
    "#     x = self.r*np.cos(self.phi)*sin(self.theta)\n",
    "#     y = self.r*np.sin(self.phi)*sin(self.theta)\n",
    "#     z = self.r*np.cos(self.theta)\n",
    "#     return Pt(x,y,z)"
   ]
  },
  {
   "cell_type": "code",
   "execution_count": 2,
   "metadata": {},
   "outputs": [
    {
     "data": {
      "text/html": [
       "<div>\n",
       "<style scoped>\n",
       "    .dataframe tbody tr th:only-of-type {\n",
       "        vertical-align: middle;\n",
       "    }\n",
       "\n",
       "    .dataframe tbody tr th {\n",
       "        vertical-align: top;\n",
       "    }\n",
       "\n",
       "    .dataframe thead th {\n",
       "        text-align: right;\n",
       "    }\n",
       "</style>\n",
       "<table border=\"1\" class=\"dataframe\">\n",
       "  <thead>\n",
       "    <tr style=\"text-align: right;\">\n",
       "      <th></th>\n",
       "      <th>Range</th>\n",
       "      <th>Azimuth</th>\n",
       "      <th>Elevation</th>\n",
       "      <th>Amplitude</th>\n",
       "      <th>RCS</th>\n",
       "      <th>Velocity</th>\n",
       "    </tr>\n",
       "  </thead>\n",
       "  <tbody>\n",
       "    <tr>\n",
       "      <th>0</th>\n",
       "      <td>0.001</td>\n",
       "      <td>0.172222</td>\n",
       "      <td>0.8</td>\n",
       "      <td>0.18606</td>\n",
       "      <td>0.853931</td>\n",
       "      <td>0.500</td>\n",
       "    </tr>\n",
       "    <tr>\n",
       "      <th>1</th>\n",
       "      <td>0.001</td>\n",
       "      <td>0.300000</td>\n",
       "      <td>0.1</td>\n",
       "      <td>0.00143</td>\n",
       "      <td>0.431067</td>\n",
       "      <td>0.755</td>\n",
       "    </tr>\n",
       "    <tr>\n",
       "      <th>2</th>\n",
       "      <td>0.001</td>\n",
       "      <td>0.305556</td>\n",
       "      <td>0.1</td>\n",
       "      <td>0.00118</td>\n",
       "      <td>0.414376</td>\n",
       "      <td>0.755</td>\n",
       "    </tr>\n",
       "    <tr>\n",
       "      <th>3</th>\n",
       "      <td>0.001</td>\n",
       "      <td>0.311111</td>\n",
       "      <td>0.4</td>\n",
       "      <td>0.00103</td>\n",
       "      <td>0.402567</td>\n",
       "      <td>0.755</td>\n",
       "    </tr>\n",
       "    <tr>\n",
       "      <th>4</th>\n",
       "      <td>0.001</td>\n",
       "      <td>0.313889</td>\n",
       "      <td>0.4</td>\n",
       "      <td>0.00106</td>\n",
       "      <td>0.405061</td>\n",
       "      <td>0.755</td>\n",
       "    </tr>\n",
       "    <tr>\n",
       "      <th>...</th>\n",
       "      <td>...</td>\n",
       "      <td>...</td>\n",
       "      <td>...</td>\n",
       "      <td>...</td>\n",
       "      <td>...</td>\n",
       "      <td>...</td>\n",
       "    </tr>\n",
       "    <tr>\n",
       "      <th>1061</th>\n",
       "      <td>0.497</td>\n",
       "      <td>0.261111</td>\n",
       "      <td>0.6</td>\n",
       "      <td>0.01537</td>\n",
       "      <td>0.637335</td>\n",
       "      <td>0.500</td>\n",
       "    </tr>\n",
       "    <tr>\n",
       "      <th>1062</th>\n",
       "      <td>0.498</td>\n",
       "      <td>0.244444</td>\n",
       "      <td>0.4</td>\n",
       "      <td>0.01299</td>\n",
       "      <td>0.622722</td>\n",
       "      <td>0.500</td>\n",
       "    </tr>\n",
       "    <tr>\n",
       "      <th>1063</th>\n",
       "      <td>0.499</td>\n",
       "      <td>0.258333</td>\n",
       "      <td>0.8</td>\n",
       "      <td>0.01335</td>\n",
       "      <td>0.625096</td>\n",
       "      <td>0.500</td>\n",
       "    </tr>\n",
       "    <tr>\n",
       "      <th>1064</th>\n",
       "      <td>0.507</td>\n",
       "      <td>0.102778</td>\n",
       "      <td>0.7</td>\n",
       "      <td>0.01300</td>\n",
       "      <td>0.622789</td>\n",
       "      <td>0.810</td>\n",
       "    </tr>\n",
       "    <tr>\n",
       "      <th>1065</th>\n",
       "      <td>0.511</td>\n",
       "      <td>0.222222</td>\n",
       "      <td>0.0</td>\n",
       "      <td>0.00840</td>\n",
       "      <td>0.584856</td>\n",
       "      <td>0.500</td>\n",
       "    </tr>\n",
       "  </tbody>\n",
       "</table>\n",
       "<p>1066 rows × 6 columns</p>\n",
       "</div>"
      ],
      "text/plain": [
       "      Range   Azimuth  Elevation  Amplitude       RCS  Velocity\n",
       "0     0.001  0.172222        0.8    0.18606  0.853931     0.500\n",
       "1     0.001  0.300000        0.1    0.00143  0.431067     0.755\n",
       "2     0.001  0.305556        0.1    0.00118  0.414376     0.755\n",
       "3     0.001  0.311111        0.4    0.00103  0.402567     0.755\n",
       "4     0.001  0.313889        0.4    0.00106  0.405061     0.755\n",
       "...     ...       ...        ...        ...       ...       ...\n",
       "1061  0.497  0.261111        0.6    0.01537  0.637335     0.500\n",
       "1062  0.498  0.244444        0.4    0.01299  0.622722     0.500\n",
       "1063  0.499  0.258333        0.8    0.01335  0.625096     0.500\n",
       "1064  0.507  0.102778        0.7    0.01300  0.622789     0.810\n",
       "1065  0.511  0.222222        0.0    0.00840  0.584856     0.500\n",
       "\n",
       "[1066 rows x 6 columns]"
      ]
     },
     "execution_count": 2,
     "metadata": {},
     "output_type": "execute_result"
    }
   ],
   "source": [
    "dataloader = funcs.DataLoader(modality='Radar')\n",
    "data = dataloader.get_data(filename='1_.txt')\n",
    "\n",
    "data.full"
   ]
  },
  {
   "cell_type": "markdown",
   "metadata": {},
   "source": [
    "## <span style=\"color:orange; font-size:0.8em\"> Viewing the point clouds </span>"
   ]
  },
  {
   "cell_type": "code",
   "execution_count": 3,
   "metadata": {},
   "outputs": [],
   "source": [
    "# Example 1:\n",
    "\n",
    "x = '6'\n",
    "data = funcs.DataLoader(modality='Lidar').get_data(filename=x+'_.txt')\n",
    "points_lidar = data.train[data.train.columns[:3]].to_numpy()\n",
    "\n",
    "dataloader = funcs.DataLoader(modality='Radar')\n",
    "data = dataloader.get_data(filename='1_.txt')\n",
    "points_radar = dataloader.dataframe_original[['-X','Y','Z']].values\n",
    "\n",
    "\n",
    "pcdL = open3d.geometry.PointCloud()\n",
    "pcdL.points = open3d.utility.Vector3dVector(points_lidar)\n",
    "\n",
    "pcdR = open3d.geometry.PointCloud()\n",
    "pcdR.points = open3d.utility.Vector3dVector(points_radar)\n",
    "\n",
    "# pcd.colors = open3d.utility.Vector3dVector(data[data.columns[3]].to_numpy())\n",
    "open3d.visualization.draw_geometries([pcdL])\n",
    "\n",
    "# open3d.visualization.draw_geometries([pcdR])"
   ]
  },
  {
   "cell_type": "code",
   "execution_count": 5,
   "metadata": {},
   "outputs": [],
   "source": [
    "# # points_radar\n",
    "# plt.subplot(121)\n",
    "# funcs.DataLoader().visualize(points=points_lidar , method='open3d')\n",
    "\n",
    "# plt.subplot(122)\n",
    "# funcs.DataLoader().visualize(points=points_radar , method='open3d')\n",
    "\n",
    "\n",
    "# points_lidar\n",
    "# Example 2:\n",
    "# funcs.DataLoader().visualize(run_demo=True, modality='Radar', filename='2_.txt')"
   ]
  },
  {
   "cell_type": "markdown",
   "metadata": {},
   "source": [
    "## <span style=\"color:orange; font-size:0.8em\"> Vector Input </span>"
   ]
  },
  {
   "cell_type": "code",
   "execution_count": 129,
   "metadata": {},
   "outputs": [],
   "source": [
    "# vector_input = funcs.VectorInput(filename='1_.txt', modality='Radar', normalize=True)\n",
    "\n",
    "# vector_input.prediction"
   ]
  },
  {
   "cell_type": "code",
   "execution_count": 217,
   "metadata": {},
   "outputs": [
    {
     "name": "stdout",
     "output_type": "stream",
     "text": [
      "original dataframe size (1066, 18)\n",
      " dataframe (1066, 4)\n",
      " dataframe2 (688, 4)\n"
     ]
    },
    {
     "data": {
      "text/plain": [
       "(1066, 4)"
      ]
     },
     "execution_count": 217,
     "metadata": {},
     "output_type": "execute_result"
    }
   ],
   "source": [
    "dataloader = funcs.DataLoader(modality='Radar')\n",
    "dataloader.get_data(filename='1_.txt')\n",
    "\n",
    "print('original dataframe size', dataloader.dataframe_original.shape)\n",
    "print(' dataframe', dataloader.dataframe.shape)\n",
    "print(' dataframe2', dataloader.dataframe2.shape)\n",
    "\n",
    "dataloader.dataframe.shape"
   ]
  },
  {
   "cell_type": "code",
   "execution_count": 210,
   "metadata": {},
   "outputs": [],
   "source": [
    "# dataloader.dataframe[['Azimuth', 'Elevation', 'Range']].to_numpy()"
   ]
  },
  {
   "cell_type": "code",
   "execution_count": 220,
   "metadata": {},
   "outputs": [],
   "source": [
    "# Example 1:\n",
    "\n",
    "points_orig = dataloader.dataframe[['Azimuth', 'Elevation', 'Range']].to_numpy()\n",
    "\n",
    "points_after = dataloader.dataframe2[['Azimuth', 'Elevation', 'Range']].to_numpy()\n",
    "\n",
    "\n",
    "pcd = open3d.geometry.PointCloud()\n",
    "pcd.points = open3d.utility.Vector3dVector(points_orig)\n",
    "\n",
    "pcd2 = open3d.geometry.PointCloud()\n",
    "pcd2.points = open3d.utility.Vector3dVector(points_after)\n",
    "\n",
    "# use open3d to compare pcd and pcd2 point clouds \n",
    "open3d.visualization.draw_geometries([pcd])\n"
   ]
  },
  {
   "cell_type": "code",
   "execution_count": 221,
   "metadata": {},
   "outputs": [],
   "source": [
    "# use open3d.visualization to plot two point clouds"
   ]
  },
  {
   "cell_type": "code",
   "execution_count": 219,
   "metadata": {},
   "outputs": [],
   "source": [
    "open3d.visualization.draw_geometries([pcd2])"
   ]
  },
  {
   "cell_type": "code",
   "execution_count": 145,
   "metadata": {},
   "outputs": [
    {
     "data": {
      "text/html": [
       "<div>\n",
       "<style scoped>\n",
       "    .dataframe tbody tr th:only-of-type {\n",
       "        vertical-align: middle;\n",
       "    }\n",
       "\n",
       "    .dataframe tbody tr th {\n",
       "        vertical-align: top;\n",
       "    }\n",
       "\n",
       "    .dataframe thead th {\n",
       "        text-align: right;\n",
       "    }\n",
       "</style>\n",
       "<table border=\"1\" class=\"dataframe\">\n",
       "  <thead>\n",
       "    <tr style=\"text-align: right;\">\n",
       "      <th></th>\n",
       "      <th>Range</th>\n",
       "      <th>Azimuth</th>\n",
       "      <th>Elevation</th>\n",
       "      <th>RCS</th>\n",
       "    </tr>\n",
       "  </thead>\n",
       "  <tbody>\n",
       "    <tr>\n",
       "      <th>0</th>\n",
       "      <td>173</td>\n",
       "      <td>134.0</td>\n",
       "      <td>2</td>\n",
       "      <td>18</td>\n",
       "    </tr>\n",
       "    <tr>\n",
       "      <th>1</th>\n",
       "      <td>165</td>\n",
       "      <td>130.0</td>\n",
       "      <td>2</td>\n",
       "      <td>18</td>\n",
       "    </tr>\n",
       "    <tr>\n",
       "      <th>2</th>\n",
       "      <td>173</td>\n",
       "      <td>134.0</td>\n",
       "      <td>1</td>\n",
       "      <td>13</td>\n",
       "    </tr>\n",
       "  </tbody>\n",
       "</table>\n",
       "</div>"
      ],
      "text/plain": [
       "   Range  Azimuth  Elevation  RCS\n",
       "0    173    134.0          2   18\n",
       "1    165    130.0          2   18\n",
       "2    173    134.0          1   13"
      ]
     },
     "execution_count": 145,
     "metadata": {},
     "output_type": "execute_result"
    }
   ],
   "source": [
    "dataloader = funcs.DataLoader(modality='Lidar')\n",
    "dataloader.get_data(filename='1_.txt')\n",
    "\n",
    "dataloader.dataframe.head(3)"
   ]
  },
  {
   "cell_type": "code",
   "execution_count": 25,
   "metadata": {},
   "outputs": [
    {
     "name": "stdout",
     "output_type": "stream",
     "text": [
      "tf.Tensor([0.         0.20074569 0.9367698  0.21696949 1.         0.58504146], shape=(6,), dtype=float64)\n"
     ]
    }
   ],
   "source": [
    "# vector_input.view()\n",
    "vector_input.dataframe\n",
    "\n",
    "import tensorflow as tf \n",
    "\n",
    "# tensorflow dataset from dataframe\n",
    "dataset = tf.data.Dataset.from_tensor_slices(vector_input.dataframe)\n",
    "\n",
    "# normalize the data in each column to 0-1\n",
    "dataset = dataset.map(lambda x: (x - tf.math.reduce_min(x)) / (tf.math.reduce_max(x) - tf.math.reduce_min(x)))\n",
    "\n",
    "\n",
    "# view the values in dataset\n",
    "for x in dataset.take(1):\n",
    "    print(x)"
   ]
  },
  {
   "cell_type": "code",
   "execution_count": 15,
   "metadata": {},
   "outputs": [
    {
     "name": "stdout",
     "output_type": "stream",
     "text": [
      "tf.Tensor([0.         0.20074569 0.9367698  0.21696949 1.         0.58504146], shape=(6,), dtype=float64)\n"
     ]
    }
   ],
   "source": [
    "# view the values in dataset\n",
    "for x in dataset.take(1):\n",
    "    print(x)"
   ]
  },
  {
   "cell_type": "code",
   "execution_count": 5,
   "metadata": {},
   "outputs": [
    {
     "data": {
      "text/html": [
       "<div>\n",
       "<style scoped>\n",
       "    .dataframe tbody tr th:only-of-type {\n",
       "        vertical-align: middle;\n",
       "    }\n",
       "\n",
       "    .dataframe tbody tr th {\n",
       "        vertical-align: top;\n",
       "    }\n",
       "\n",
       "    .dataframe thead th {\n",
       "        text-align: right;\n",
       "    }\n",
       "</style>\n",
       "<table border=\"1\" class=\"dataframe\">\n",
       "  <thead>\n",
       "    <tr style=\"text-align: right;\">\n",
       "      <th></th>\n",
       "      <th>Range</th>\n",
       "      <th>Azimuth</th>\n",
       "      <th>Elevation</th>\n",
       "      <th>Amplitude</th>\n",
       "      <th>RCS</th>\n",
       "      <th>Velocity</th>\n",
       "    </tr>\n",
       "  </thead>\n",
       "  <tbody>\n",
       "    <tr>\n",
       "      <th>31</th>\n",
       "      <td>0.001</td>\n",
       "      <td>0.936111</td>\n",
       "      <td>0.5</td>\n",
       "      <td>0.22173</td>\n",
       "      <td>0.869165</td>\n",
       "      <td>0.500</td>\n",
       "    </tr>\n",
       "    <tr>\n",
       "      <th>807</th>\n",
       "      <td>0.182</td>\n",
       "      <td>0.836111</td>\n",
       "      <td>0.6</td>\n",
       "      <td>0.01533</td>\n",
       "      <td>0.637108</td>\n",
       "      <td>0.410</td>\n",
       "    </tr>\n",
       "    <tr>\n",
       "      <th>413</th>\n",
       "      <td>0.025</td>\n",
       "      <td>0.547222</td>\n",
       "      <td>0.2</td>\n",
       "      <td>0.00461</td>\n",
       "      <td>0.532740</td>\n",
       "      <td>0.655</td>\n",
       "    </tr>\n",
       "    <tr>\n",
       "      <th>1025</th>\n",
       "      <td>0.319</td>\n",
       "      <td>0.550000</td>\n",
       "      <td>0.6</td>\n",
       "      <td>0.02098</td>\n",
       "      <td>0.664361</td>\n",
       "      <td>0.500</td>\n",
       "    </tr>\n",
       "    <tr>\n",
       "      <th>798</th>\n",
       "      <td>0.180</td>\n",
       "      <td>0.813889</td>\n",
       "      <td>0.8</td>\n",
       "      <td>0.03205</td>\n",
       "      <td>0.701166</td>\n",
       "      <td>0.775</td>\n",
       "    </tr>\n",
       "    <tr>\n",
       "      <th>...</th>\n",
       "      <td>...</td>\n",
       "      <td>...</td>\n",
       "      <td>...</td>\n",
       "      <td>...</td>\n",
       "      <td>...</td>\n",
       "      <td>...</td>\n",
       "    </tr>\n",
       "    <tr>\n",
       "      <th>868</th>\n",
       "      <td>0.206</td>\n",
       "      <td>0.869444</td>\n",
       "      <td>0.3</td>\n",
       "      <td>0.02543</td>\n",
       "      <td>0.681069</td>\n",
       "      <td>0.225</td>\n",
       "    </tr>\n",
       "    <tr>\n",
       "      <th>908</th>\n",
       "      <td>0.228</td>\n",
       "      <td>0.813889</td>\n",
       "      <td>0.7</td>\n",
       "      <td>0.08697</td>\n",
       "      <td>0.787874</td>\n",
       "      <td>0.500</td>\n",
       "    </tr>\n",
       "    <tr>\n",
       "      <th>50</th>\n",
       "      <td>0.002</td>\n",
       "      <td>0.191667</td>\n",
       "      <td>0.1</td>\n",
       "      <td>0.02744</td>\n",
       "      <td>0.687677</td>\n",
       "      <td>0.500</td>\n",
       "    </tr>\n",
       "    <tr>\n",
       "      <th>353</th>\n",
       "      <td>0.019</td>\n",
       "      <td>0.533333</td>\n",
       "      <td>0.8</td>\n",
       "      <td>0.00621</td>\n",
       "      <td>0.558618</td>\n",
       "      <td>0.420</td>\n",
       "    </tr>\n",
       "    <tr>\n",
       "      <th>1024</th>\n",
       "      <td>0.318</td>\n",
       "      <td>0.552778</td>\n",
       "      <td>0.8</td>\n",
       "      <td>0.01306</td>\n",
       "      <td>0.623189</td>\n",
       "      <td>0.500</td>\n",
       "    </tr>\n",
       "  </tbody>\n",
       "</table>\n",
       "<p>640 rows × 6 columns</p>\n",
       "</div>"
      ],
      "text/plain": [
       "      Range   Azimuth  Elevation  Amplitude       RCS  Velocity\n",
       "31    0.001  0.936111        0.5    0.22173  0.869165     0.500\n",
       "807   0.182  0.836111        0.6    0.01533  0.637108     0.410\n",
       "413   0.025  0.547222        0.2    0.00461  0.532740     0.655\n",
       "1025  0.319  0.550000        0.6    0.02098  0.664361     0.500\n",
       "798   0.180  0.813889        0.8    0.03205  0.701166     0.775\n",
       "...     ...       ...        ...        ...       ...       ...\n",
       "868   0.206  0.869444        0.3    0.02543  0.681069     0.225\n",
       "908   0.228  0.813889        0.7    0.08697  0.787874     0.500\n",
       "50    0.002  0.191667        0.1    0.02744  0.687677     0.500\n",
       "353   0.019  0.533333        0.8    0.00621  0.558618     0.420\n",
       "1024  0.318  0.552778        0.8    0.01306  0.623189     0.500\n",
       "\n",
       "[640 rows x 6 columns]"
      ]
     },
     "execution_count": 5,
     "metadata": {},
     "output_type": "execute_result"
    }
   ],
   "source": [
    "vector_input.data.train"
   ]
  },
  {
   "cell_type": "markdown",
   "metadata": {},
   "source": [
    "## <span style=\"color:orange; font-size:0.8em\"> Matrix Input </span>"
   ]
  },
  {
   "cell_type": "code",
   "execution_count": 6,
   "metadata": {},
   "outputs": [
    {
     "data": {
      "text/plain": [
       "(180, 20)"
      ]
     },
     "execution_count": 6,
     "metadata": {},
     "output_type": "execute_result"
    }
   ],
   "source": [
    "matrix_input = funcs.MatrixInput(dataset_directory='/home/artin/Documents/10dB_CR_10deg_in_2021-10-15-14-15-49' , modality='Radar')\n",
    "\n",
    "matrix_input.data.full.shape"
   ]
  },
  {
   "cell_type": "code",
   "execution_count": 20,
   "metadata": {},
   "outputs": [
    {
     "data": {
      "text/plain": [
       "57787.0"
      ]
     },
     "execution_count": 20,
     "metadata": {},
     "output_type": "execute_result"
    }
   ],
   "source": [
    "matrix_input.data.full.sum()"
   ]
  },
  {
   "cell_type": "code",
   "execution_count": 8,
   "metadata": {},
   "outputs": [
    {
     "data": {
      "image/png": "[encoded data removed]",
      "text/plain": [
       "<Figure size 432x288 with 1 Axes>"
      ]
     },
     "metadata": {
      "needs_background": "light"
     },
     "output_type": "display_data"
    }
   ],
   "source": [
    "plt.imshow(matrix_input.data.full)\n",
    "plt.show()"
   ]
  },
  {
   "cell_type": "code",
   "execution_count": null,
   "metadata": {},
   "outputs": [],
   "source": []
  }
 ],
 "metadata": {
  "kernelspec": {
   "display_name": "Python 3.7.13 ('autoencoder')",
   "language": "python",
   "name": "python3"
  },
  "language_info": {
   "codemirror_mode": {
    "name": "ipython",
    "version": 3
   },
   "file_extension": ".py",
   "mimetype": "text/x-python",
   "name": "python",
   "nbconvert_exporter": "python",
   "pygments_lexer": "ipython3",
   "version": "3.7.13"
  },
  "orig_nbformat": 4,
  "vscode": {
   "interpreter": {
    "hash": "54012e1f293dab572bba3f57e10fa4027aa2cc0dbccc79422e4471319ef5ee88"
   }
  }
 },
 "nbformat": 4,
 "nbformat_minor": 2
}
