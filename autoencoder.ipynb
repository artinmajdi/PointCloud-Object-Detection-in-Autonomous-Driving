{
 "cells": [
  {
   "cell_type": "markdown",
   "metadata": {},
   "source": [
    "# Importing packages"
   ]
  },
  {
   "cell_type": "markdown",
   "metadata": {},
   "source": [
    "## Setup"
   ]
  },
  {
   "cell_type": "code",
   "execution_count": 63,
   "metadata": {},
   "outputs": [],
   "source": [
    "%reload_ext autoreload\n",
    "%autoreload 2\n",
    "\n",
    "import numpy as np\n",
    "import matplotlib.pyplot as plt\n",
    "import pandas as pd\n",
    "import open3d\n",
    "import pptk\n",
    "from logging import raiseExceptions\n",
    "import seaborn as sns\n",
    "import funcs\n",
    "import tensorflow as tf\n",
    "\n",
    "%reload_ext funcs\n"
   ]
  },
  {
   "cell_type": "markdown",
   "metadata": {},
   "source": [
    "## Data loader"
   ]
  },
  {
   "cell_type": "code",
   "execution_count": 64,
   "metadata": {},
   "outputs": [
    {
     "name": "stdout",
     "output_type": "stream",
     "text": [
      "original dataframe size (1066, 18)\n",
      " dataframe (688, 4)\n"
     ]
    },
    {
     "data": {
      "text/plain": [
       "<matplotlib.image.AxesImage at 0x7f1d4bb029d0>"
      ]
     },
     "execution_count": 64,
     "metadata": {},
     "output_type": "execute_result"
    },
    {
     "data": {
      "image/png": "[encoded data removed]",
      "text/plain": [
       "<Figure size 3600x720 with 1 Axes>"
      ]
     },
     "metadata": {
      "needs_background": "light"
     },
     "output_type": "display_data"
    }
   ],
   "source": [
    "dataloader = funcs.DataLoader(modality='Radar' , data_type='matrix')\n",
    "dataloader.get_data(filename='1_.txt')\n",
    "\n",
    "print('original dataframe size', dataloader.dataframe_original.shape)\n",
    "print(' dataframe',  dataloader.dataframe.shape )\n",
    "\n",
    "plt.figure(figsize=(50,10))\n",
    "plt.imshow(dataloader.data_matrix[:,:,0] / dataloader.data_matrix[:,:,0].max() )"
   ]
  },
  {
   "cell_type": "code",
   "execution_count": 65,
   "metadata": {},
   "outputs": [
    {
     "data": {
      "text/html": [
       "<div>\n",
       "<style scoped>\n",
       "    .dataframe tbody tr th:only-of-type {\n",
       "        vertical-align: middle;\n",
       "    }\n",
       "\n",
       "    .dataframe tbody tr th {\n",
       "        vertical-align: top;\n",
       "    }\n",
       "\n",
       "    .dataframe thead th {\n",
       "        text-align: right;\n",
       "    }\n",
       "</style>\n",
       "<table border=\"1\" class=\"dataframe\">\n",
       "  <thead>\n",
       "    <tr style=\"text-align: right;\">\n",
       "      <th></th>\n",
       "      <th>Range</th>\n",
       "      <th>Azimuth</th>\n",
       "      <th>Elevation</th>\n",
       "      <th>RCS</th>\n",
       "    </tr>\n",
       "  </thead>\n",
       "  <tbody>\n",
       "    <tr>\n",
       "      <th>0</th>\n",
       "      <td>1</td>\n",
       "      <td>31</td>\n",
       "      <td>16</td>\n",
       "      <td>85</td>\n",
       "    </tr>\n",
       "    <tr>\n",
       "      <th>1</th>\n",
       "      <td>1</td>\n",
       "      <td>54</td>\n",
       "      <td>2</td>\n",
       "      <td>43</td>\n",
       "    </tr>\n",
       "    <tr>\n",
       "      <th>2</th>\n",
       "      <td>1</td>\n",
       "      <td>55</td>\n",
       "      <td>2</td>\n",
       "      <td>41</td>\n",
       "    </tr>\n",
       "    <tr>\n",
       "      <th>3</th>\n",
       "      <td>1</td>\n",
       "      <td>56</td>\n",
       "      <td>8</td>\n",
       "      <td>40</td>\n",
       "    </tr>\n",
       "    <tr>\n",
       "      <th>6</th>\n",
       "      <td>1</td>\n",
       "      <td>57</td>\n",
       "      <td>16</td>\n",
       "      <td>41</td>\n",
       "    </tr>\n",
       "    <tr>\n",
       "      <th>...</th>\n",
       "      <td>...</td>\n",
       "      <td>...</td>\n",
       "      <td>...</td>\n",
       "      <td>...</td>\n",
       "    </tr>\n",
       "    <tr>\n",
       "      <th>1059</th>\n",
       "      <td>485</td>\n",
       "      <td>40</td>\n",
       "      <td>2</td>\n",
       "      <td>56</td>\n",
       "    </tr>\n",
       "    <tr>\n",
       "      <th>1060</th>\n",
       "      <td>496</td>\n",
       "      <td>44</td>\n",
       "      <td>0</td>\n",
       "      <td>61</td>\n",
       "    </tr>\n",
       "    <tr>\n",
       "      <th>1061</th>\n",
       "      <td>497</td>\n",
       "      <td>47</td>\n",
       "      <td>12</td>\n",
       "      <td>63</td>\n",
       "    </tr>\n",
       "    <tr>\n",
       "      <th>1063</th>\n",
       "      <td>499</td>\n",
       "      <td>46</td>\n",
       "      <td>16</td>\n",
       "      <td>62</td>\n",
       "    </tr>\n",
       "    <tr>\n",
       "      <th>1065</th>\n",
       "      <td>511</td>\n",
       "      <td>40</td>\n",
       "      <td>0</td>\n",
       "      <td>58</td>\n",
       "    </tr>\n",
       "  </tbody>\n",
       "</table>\n",
       "<p>688 rows × 4 columns</p>\n",
       "</div>"
      ],
      "text/plain": [
       "      Range  Azimuth  Elevation  RCS\n",
       "0         1       31         16   85\n",
       "1         1       54          2   43\n",
       "2         1       55          2   41\n",
       "3         1       56          8   40\n",
       "6         1       57         16   41\n",
       "...     ...      ...        ...  ...\n",
       "1059    485       40          2   56\n",
       "1060    496       44          0   61\n",
       "1061    497       47         12   63\n",
       "1063    499       46         16   62\n",
       "1065    511       40          0   58\n",
       "\n",
       "[688 rows x 4 columns]"
      ]
     },
     "execution_count": 65,
     "metadata": {},
     "output_type": "execute_result"
    }
   ],
   "source": [
    "x,y,z = dataloader.spherical_to_cartesian( Azimuth_Angle=dataloader.dataframe.Azimuth , Elevation_Angle=dataloader.dataframe.Elevation - 10 , Range=dataloader.dataframe.Range )\n",
    "\n",
    "# plt.hist(z)\n",
    "\n",
    "dataloader.dataframe"
   ]
  },
  {
   "cell_type": "code",
   "execution_count": 66,
   "metadata": {},
   "outputs": [],
   "source": [
    "# dataloader.dataframe_original"
   ]
  },
  {
   "cell_type": "markdown",
   "metadata": {},
   "source": [
    "## <span style=\"color:orange; font-size:0.8em\"> Viewing the point clouds </span>"
   ]
  },
  {
   "cell_type": "code",
   "execution_count": 67,
   "metadata": {},
   "outputs": [],
   "source": [
    "columns = dataloader.dataframe.columns[:3]\n",
    "\n",
    "# funcs.DataLoader().visualize(points=dataloader.dataframe[columns])"
   ]
  },
  {
   "cell_type": "code",
   "execution_count": 68,
   "metadata": {},
   "outputs": [
    {
     "data": {
      "text/html": [
       "<div>\n",
       "<style scoped>\n",
       "    .dataframe tbody tr th:only-of-type {\n",
       "        vertical-align: middle;\n",
       "    }\n",
       "\n",
       "    .dataframe tbody tr th {\n",
       "        vertical-align: top;\n",
       "    }\n",
       "\n",
       "    .dataframe thead th {\n",
       "        text-align: right;\n",
       "    }\n",
       "</style>\n",
       "<table border=\"1\" class=\"dataframe\">\n",
       "  <thead>\n",
       "    <tr style=\"text-align: right;\">\n",
       "      <th></th>\n",
       "      <th>Range</th>\n",
       "      <th>Azimuth</th>\n",
       "      <th>Elevation</th>\n",
       "    </tr>\n",
       "  </thead>\n",
       "  <tbody>\n",
       "    <tr>\n",
       "      <th>0</th>\n",
       "      <td>1</td>\n",
       "      <td>31</td>\n",
       "      <td>16</td>\n",
       "    </tr>\n",
       "    <tr>\n",
       "      <th>1</th>\n",
       "      <td>1</td>\n",
       "      <td>54</td>\n",
       "      <td>2</td>\n",
       "    </tr>\n",
       "    <tr>\n",
       "      <th>2</th>\n",
       "      <td>1</td>\n",
       "      <td>55</td>\n",
       "      <td>2</td>\n",
       "    </tr>\n",
       "    <tr>\n",
       "      <th>3</th>\n",
       "      <td>1</td>\n",
       "      <td>56</td>\n",
       "      <td>8</td>\n",
       "    </tr>\n",
       "    <tr>\n",
       "      <th>6</th>\n",
       "      <td>1</td>\n",
       "      <td>57</td>\n",
       "      <td>16</td>\n",
       "    </tr>\n",
       "    <tr>\n",
       "      <th>...</th>\n",
       "      <td>...</td>\n",
       "      <td>...</td>\n",
       "      <td>...</td>\n",
       "    </tr>\n",
       "    <tr>\n",
       "      <th>1059</th>\n",
       "      <td>485</td>\n",
       "      <td>40</td>\n",
       "      <td>2</td>\n",
       "    </tr>\n",
       "    <tr>\n",
       "      <th>1060</th>\n",
       "      <td>496</td>\n",
       "      <td>44</td>\n",
       "      <td>0</td>\n",
       "    </tr>\n",
       "    <tr>\n",
       "      <th>1061</th>\n",
       "      <td>497</td>\n",
       "      <td>47</td>\n",
       "      <td>12</td>\n",
       "    </tr>\n",
       "    <tr>\n",
       "      <th>1063</th>\n",
       "      <td>499</td>\n",
       "      <td>46</td>\n",
       "      <td>16</td>\n",
       "    </tr>\n",
       "    <tr>\n",
       "      <th>1065</th>\n",
       "      <td>511</td>\n",
       "      <td>40</td>\n",
       "      <td>0</td>\n",
       "    </tr>\n",
       "  </tbody>\n",
       "</table>\n",
       "<p>688 rows × 3 columns</p>\n",
       "</div>"
      ],
      "text/plain": [
       "      Range  Azimuth  Elevation\n",
       "0         1       31         16\n",
       "1         1       54          2\n",
       "2         1       55          2\n",
       "3         1       56          8\n",
       "6         1       57         16\n",
       "...     ...      ...        ...\n",
       "1059    485       40          2\n",
       "1060    496       44          0\n",
       "1061    497       47         12\n",
       "1063    499       46         16\n",
       "1065    511       40          0\n",
       "\n",
       "[688 rows x 3 columns]"
      ]
     },
     "execution_count": 68,
     "metadata": {},
     "output_type": "execute_result"
    }
   ],
   "source": [
    "dataloader.dataframe[columns]"
   ]
  },
  {
   "cell_type": "markdown",
   "metadata": {},
   "source": [
    "## <span style=\"color:orange; font-size:0.8em\"> Vector Input </span>"
   ]
  },
  {
   "cell_type": "code",
   "execution_count": 69,
   "metadata": {},
   "outputs": [],
   "source": [
    "# loader = funcs.VectorInput(filename='1_.txt', modality='Radar')\n",
    "\n",
    "# print(loader.dataframe.shape)\n",
    "# print(loader.data.test.shape)"
   ]
  },
  {
   "cell_type": "markdown",
   "metadata": {},
   "source": [
    "## <span style=\"color:orange; font-size:0.8em\"> Matrix Input </span>"
   ]
  },
  {
   "cell_type": "code",
   "execution_count": 70,
   "metadata": {},
   "outputs": [
    {
     "name": "stderr",
     "output_type": "stream",
     "text": [
      "Loading the dataset: 1683it [00:54, 30.79it/s]\n"
     ]
    },
    {
     "name": "stdout",
     "output_type": "stream",
     "text": [
      "Epoch 1/30\n",
      "106/106 [==============================] - 3s 22ms/step - loss: 0.2278 - val_loss: 0.2055\n",
      "Epoch 2/30\n",
      "106/106 [==============================] - 2s 18ms/step - loss: 0.1568 - val_loss: 0.1588\n",
      "Epoch 3/30\n",
      "106/106 [==============================] - 2s 23ms/step - loss: 0.1478 - val_loss: 0.1457\n",
      "Epoch 4/30\n",
      "106/106 [==============================] - 2s 22ms/step - loss: 0.1357 - val_loss: 0.1317\n",
      "Epoch 5/30\n",
      "106/106 [==============================] - 2s 20ms/step - loss: 0.1252 - val_loss: 0.1242\n",
      "Epoch 6/30\n",
      "106/106 [==============================] - 2s 19ms/step - loss: 0.1192 - val_loss: 0.1191\n",
      "Epoch 7/30\n",
      "106/106 [==============================] - 2s 18ms/step - loss: 0.1156 - val_loss: 0.1152\n",
      "Epoch 8/30\n",
      "106/106 [==============================] - 2s 18ms/step - loss: 0.1134 - val_loss: 0.1134\n",
      "Epoch 9/30\n",
      "106/106 [==============================] - 2s 18ms/step - loss: 0.1118 - val_loss: 0.1119\n",
      "Epoch 10/30\n",
      "106/106 [==============================] - 2s 18ms/step - loss: 0.1106 - val_loss: 0.1107\n",
      "Epoch 11/30\n",
      "106/106 [==============================] - 2s 18ms/step - loss: 0.1096 - val_loss: 0.1100\n",
      "Epoch 12/30\n",
      "106/106 [==============================] - 2s 20ms/step - loss: 0.1088 - val_loss: 0.1089\n",
      "Epoch 13/30\n",
      "106/106 [==============================] - 2s 18ms/step - loss: 0.1081 - val_loss: 0.1080\n",
      "Epoch 14/30\n",
      "106/106 [==============================] - 2s 18ms/step - loss: 0.1075 - val_loss: 0.1075\n",
      "Epoch 15/30\n",
      "106/106 [==============================] - 2s 18ms/step - loss: 0.1070 - val_loss: 0.1075\n",
      "Epoch 16/30\n",
      "106/106 [==============================] - 2s 19ms/step - loss: 0.1065 - val_loss: 0.1067\n",
      "Epoch 17/30\n",
      "106/106 [==============================] - 2s 18ms/step - loss: 0.1061 - val_loss: 0.1064\n",
      "Epoch 18/30\n",
      "106/106 [==============================] - 2s 18ms/step - loss: 0.1058 - val_loss: 0.1056\n",
      "Epoch 19/30\n",
      "106/106 [==============================] - 2s 18ms/step - loss: 0.1054 - val_loss: 0.1054\n",
      "Epoch 20/30\n",
      "106/106 [==============================] - 2s 18ms/step - loss: 0.1051 - val_loss: 0.1052\n",
      "Epoch 21/30\n",
      "106/106 [==============================] - 2s 18ms/step - loss: 0.1048 - val_loss: 0.1049\n",
      "Epoch 22/30\n",
      "106/106 [==============================] - 2s 18ms/step - loss: 0.1046 - val_loss: 0.1044\n",
      "Epoch 23/30\n",
      "106/106 [==============================] - 2s 18ms/step - loss: 0.1043 - val_loss: 0.1042\n",
      "Epoch 24/30\n",
      "106/106 [==============================] - 2s 18ms/step - loss: 0.1040 - val_loss: 0.1041\n",
      "Epoch 25/30\n",
      "106/106 [==============================] - 2s 18ms/step - loss: 0.1039 - val_loss: 0.1040\n",
      "Epoch 26/30\n",
      "106/106 [==============================] - 2s 18ms/step - loss: 0.1036 - val_loss: 0.1041\n",
      "Epoch 27/30\n",
      "106/106 [==============================] - 2s 18ms/step - loss: 0.1034 - val_loss: 0.1033\n",
      "Epoch 28/30\n",
      "106/106 [==============================] - 2s 18ms/step - loss: 0.1032 - val_loss: 0.1032\n",
      "Epoch 29/30\n",
      "106/106 [==============================] - 2s 19ms/step - loss: 0.1030 - val_loss: 0.1033\n",
      "Epoch 30/30\n",
      "106/106 [==============================] - 2s 20ms/step - loss: 0.1028 - val_loss: 0.1028\n",
      "53/53 [==============================] - 0s 7ms/step\n"
     ]
    }
   ],
   "source": [
    "loader = funcs.MatrixInput(modality='Radar')"
   ]
  },
  {
   "cell_type": "code",
   "execution_count": 77,
   "metadata": {},
   "outputs": [
    {
     "data": {
      "text/plain": [
       "(<AxesSubplot:title={'center':'input'}>,\n",
       " <matplotlib.image.AxesImage at 0x7f1d47b34090>,\n",
       " Text(0.5, 1.0, 'input'))"
      ]
     },
     "execution_count": 77,
     "metadata": {},
     "output_type": "execute_result"
    },
    {
     "data": {
      "image/png": "[encoded data removed]",
      "text/plain": [
       "<Figure size 1440x360 with 2 Axes>"
      ]
     },
     "metadata": {
      "needs_background": "light"
     },
     "output_type": "display_data"
    }
   ],
   "source": [
    "sample_ix = 10\n",
    "channel = 1\n",
    "\n",
    "plt.figure(figsize=(20,5))\n",
    "plt.subplot(211), plt.imshow(loader.predictions[sample_ix,:,:,channel]), plt.title(\"Predictions\", fontsize=15)\n",
    "plt.subplot(212), plt.imshow(loader.dataset[sample_ix,:,:,channel]), plt.title(\"input\", fontsize=15)"
   ]
  },
  {
   "cell_type": "code",
   "execution_count": 133,
   "metadata": {},
   "outputs": [
    {
     "data": {
      "text/html": [
       "<div>\n",
       "<style scoped>\n",
       "    .dataframe tbody tr th:only-of-type {\n",
       "        vertical-align: middle;\n",
       "    }\n",
       "\n",
       "    .dataframe tbody tr th {\n",
       "        vertical-align: top;\n",
       "    }\n",
       "\n",
       "    .dataframe thead th {\n",
       "        text-align: right;\n",
       "    }\n",
       "</style>\n",
       "<table border=\"1\" class=\"dataframe\">\n",
       "  <thead>\n",
       "    <tr style=\"text-align: right;\">\n",
       "      <th></th>\n",
       "      <th>Elevation</th>\n",
       "      <th>Azimuth</th>\n",
       "      <th>RCS</th>\n",
       "      <th>Range</th>\n",
       "      <th>invRange</th>\n",
       "    </tr>\n",
       "  </thead>\n",
       "  <tbody>\n",
       "    <tr>\n",
       "      <th>0</th>\n",
       "      <td>0.0</td>\n",
       "      <td>0.0</td>\n",
       "      <td>1.566925e-03</td>\n",
       "      <td>6.725107e-03</td>\n",
       "      <td>1.268575e-03</td>\n",
       "    </tr>\n",
       "    <tr>\n",
       "      <th>1</th>\n",
       "      <td>0.0</td>\n",
       "      <td>1.0</td>\n",
       "      <td>2.377801e-04</td>\n",
       "      <td>1.357747e-04</td>\n",
       "      <td>2.227338e-04</td>\n",
       "    </tr>\n",
       "    <tr>\n",
       "      <th>2</th>\n",
       "      <td>0.0</td>\n",
       "      <td>2.0</td>\n",
       "      <td>3.390172e-04</td>\n",
       "      <td>3.146929e-04</td>\n",
       "      <td>2.390857e-04</td>\n",
       "    </tr>\n",
       "    <tr>\n",
       "      <th>3</th>\n",
       "      <td>0.0</td>\n",
       "      <td>3.0</td>\n",
       "      <td>9.991832e-05</td>\n",
       "      <td>2.753111e-04</td>\n",
       "      <td>1.939231e-05</td>\n",
       "    </tr>\n",
       "    <tr>\n",
       "      <th>4</th>\n",
       "      <td>0.0</td>\n",
       "      <td>4.0</td>\n",
       "      <td>1.342035e-04</td>\n",
       "      <td>3.917155e-04</td>\n",
       "      <td>4.345143e-05</td>\n",
       "    </tr>\n",
       "    <tr>\n",
       "      <th>...</th>\n",
       "      <td>...</td>\n",
       "      <td>...</td>\n",
       "      <td>...</td>\n",
       "      <td>...</td>\n",
       "      <td>...</td>\n",
       "    </tr>\n",
       "    <tr>\n",
       "      <th>3595</th>\n",
       "      <td>19.0</td>\n",
       "      <td>175.0</td>\n",
       "      <td>9.106526e-09</td>\n",
       "      <td>2.106123e-10</td>\n",
       "      <td>8.071543e-11</td>\n",
       "    </tr>\n",
       "    <tr>\n",
       "      <th>3596</th>\n",
       "      <td>19.0</td>\n",
       "      <td>176.0</td>\n",
       "      <td>2.994582e-07</td>\n",
       "      <td>2.910526e-09</td>\n",
       "      <td>1.215523e-09</td>\n",
       "    </tr>\n",
       "    <tr>\n",
       "      <th>3597</th>\n",
       "      <td>19.0</td>\n",
       "      <td>177.0</td>\n",
       "      <td>6.278021e-07</td>\n",
       "      <td>1.087749e-08</td>\n",
       "      <td>7.061125e-09</td>\n",
       "    </tr>\n",
       "    <tr>\n",
       "      <th>3598</th>\n",
       "      <td>19.0</td>\n",
       "      <td>178.0</td>\n",
       "      <td>4.707999e-06</td>\n",
       "      <td>1.217263e-07</td>\n",
       "      <td>5.170921e-08</td>\n",
       "    </tr>\n",
       "    <tr>\n",
       "      <th>3599</th>\n",
       "      <td>19.0</td>\n",
       "      <td>179.0</td>\n",
       "      <td>1.056845e-04</td>\n",
       "      <td>3.875449e-05</td>\n",
       "      <td>1.005198e-06</td>\n",
       "    </tr>\n",
       "  </tbody>\n",
       "</table>\n",
       "<p>3600 rows × 5 columns</p>\n",
       "</div>"
      ],
      "text/plain": [
       "      Elevation  Azimuth           RCS         Range      invRange\n",
       "0           0.0      0.0  1.566925e-03  6.725107e-03  1.268575e-03\n",
       "1           0.0      1.0  2.377801e-04  1.357747e-04  2.227338e-04\n",
       "2           0.0      2.0  3.390172e-04  3.146929e-04  2.390857e-04\n",
       "3           0.0      3.0  9.991832e-05  2.753111e-04  1.939231e-05\n",
       "4           0.0      4.0  1.342035e-04  3.917155e-04  4.345143e-05\n",
       "...         ...      ...           ...           ...           ...\n",
       "3595       19.0    175.0  9.106526e-09  2.106123e-10  8.071543e-11\n",
       "3596       19.0    176.0  2.994582e-07  2.910526e-09  1.215523e-09\n",
       "3597       19.0    177.0  6.278021e-07  1.087749e-08  7.061125e-09\n",
       "3598       19.0    178.0  4.707999e-06  1.217263e-07  5.170921e-08\n",
       "3599       19.0    179.0  1.056845e-04  3.875449e-05  1.005198e-06\n",
       "\n",
       "[3600 rows x 5 columns]"
      ]
     },
     "execution_count": 133,
     "metadata": {},
     "output_type": "execute_result"
    }
   ],
   "source": [
    "sample_ix = 10\n",
    "\n",
    "\n",
    "# sample = loader.dataset[sample_ix,...]\n",
    "sample = loader.predictions[sample_ix,...]\n",
    "\n",
    "\n",
    "\n",
    "pred = loader.extract_spherical_coordinates(sample)\n",
    "\n",
    "loader.visualize(points=pred, method='open3d')"
   ]
  }
 ],
 "metadata": {
  "kernelspec": {
   "display_name": "Python 3.7.13 ('autoencoder')",
   "language": "python",
   "name": "python3"
  },
  "language_info": {
   "codemirror_mode": {
    "name": "ipython",
    "version": 3
   },
   "file_extension": ".py",
   "mimetype": "text/x-python",
   "name": "python",
   "nbconvert_exporter": "python",
   "pygments_lexer": "ipython3",
   "version": "3.7.13"
  },
  "orig_nbformat": 4,
  "vscode": {
   "interpreter": {
    "hash": "54012e1f293dab572bba3f57e10fa4027aa2cc0dbccc79422e4471319ef5ee88"
   }
  }
 },
 "nbformat": 4,
 "nbformat_minor": 2
}
