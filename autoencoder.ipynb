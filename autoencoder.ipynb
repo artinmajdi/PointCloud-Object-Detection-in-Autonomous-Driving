{
 "cells": [
  {
   "cell_type": "markdown",
   "metadata": {},
   "source": [
    "# Importing packages"
   ]
  },
  {
   "cell_type": "markdown",
   "metadata": {},
   "source": [
    "## Setup"
   ]
  },
  {
   "cell_type": "code",
   "execution_count": 1,
   "metadata": {},
   "outputs": [
    {
     "name": "stdout",
     "output_type": "stream",
     "text": [
      "Jupyter environment detected. Enabling Open3D WebVisualizer.\n",
      "[Open3D INFO] WebRTC GUI backend enabled.\n",
      "[Open3D INFO] WebRTCWindowSystem: HTTP handshake server disabled.\n"
     ]
    },
    {
     "name": "stderr",
     "output_type": "stream",
     "text": [
      "2022-07-14 12:29:26.581462: I tensorflow/core/util/util.cc:169] oneDNN custom operations are on. You may see slightly different numerical results due to floating-point round-off errors from different computation orders. To turn them off, set the environment variable `TF_ENABLE_ONEDNN_OPTS=0`.\n"
     ]
    }
   ],
   "source": [
    "%reload_ext autoreload\n",
    "%autoreload 2\n",
    "\n",
    "import numpy as np\n",
    "import matplotlib.pyplot as plt\n",
    "import pandas as pd\n",
    "import open3d\n",
    "import pptk\n",
    "from logging import raiseExceptions\n",
    "import seaborn as sns\n",
    "import funcs\n",
    "import tensorflow as tf\n",
    "\n",
    "%reload_ext funcs\n"
   ]
  },
  {
   "cell_type": "markdown",
   "metadata": {},
   "source": [
    "## Data loader"
   ]
  },
  {
   "cell_type": "code",
   "execution_count": 2,
   "metadata": {},
   "outputs": [
    {
     "name": "stdout",
     "output_type": "stream",
     "text": [
      "original dataframe size (1066, 18)\n",
      " dataframe (688, 4)\n"
     ]
    },
    {
     "data": {
      "text/plain": [
       "<matplotlib.image.AxesImage at 0x7f1d5461eb10>"
      ]
     },
     "execution_count": 2,
     "metadata": {},
     "output_type": "execute_result"
    },
    {
     "data": {
      "image/png": "[encoded data removed]",
      "text/plain": [
       "<Figure size 3600x720 with 1 Axes>"
      ]
     },
     "metadata": {
      "needs_background": "light"
     },
     "output_type": "display_data"
    }
   ],
   "source": [
    "dataloader = funcs.DataLoader(modality='Radar' , data_type='matrix')\n",
    "dataloader.get_data(filename='1_.txt')\n",
    "\n",
    "print('original dataframe size', dataloader.dataframe_original.shape)\n",
    "print(' dataframe',  dataloader.dataframe.shape )\n",
    "\n",
    "plt.figure(figsize=(50,10))\n",
    "plt.imshow(dataloader.data_matrix[:,:,0] / dataloader.data_matrix[:,:,0].max() )"
   ]
  },
  {
   "cell_type": "code",
   "execution_count": 3,
   "metadata": {},
   "outputs": [
    {
     "data": {
      "text/html": [
       "<div>\n",
       "<style scoped>\n",
       "    .dataframe tbody tr th:only-of-type {\n",
       "        vertical-align: middle;\n",
       "    }\n",
       "\n",
       "    .dataframe tbody tr th {\n",
       "        vertical-align: top;\n",
       "    }\n",
       "\n",
       "    .dataframe thead th {\n",
       "        text-align: right;\n",
       "    }\n",
       "</style>\n",
       "<table border=\"1\" class=\"dataframe\">\n",
       "  <thead>\n",
       "    <tr style=\"text-align: right;\">\n",
       "      <th></th>\n",
       "      <th>Range</th>\n",
       "      <th>Azimuth</th>\n",
       "      <th>Elevation</th>\n",
       "      <th>RCS</th>\n",
       "    </tr>\n",
       "  </thead>\n",
       "  <tbody>\n",
       "    <tr>\n",
       "      <th>0</th>\n",
       "      <td>1</td>\n",
       "      <td>31</td>\n",
       "      <td>16</td>\n",
       "      <td>85</td>\n",
       "    </tr>\n",
       "    <tr>\n",
       "      <th>1</th>\n",
       "      <td>1</td>\n",
       "      <td>54</td>\n",
       "      <td>2</td>\n",
       "      <td>43</td>\n",
       "    </tr>\n",
       "    <tr>\n",
       "      <th>2</th>\n",
       "      <td>1</td>\n",
       "      <td>55</td>\n",
       "      <td>2</td>\n",
       "      <td>41</td>\n",
       "    </tr>\n",
       "    <tr>\n",
       "      <th>3</th>\n",
       "      <td>1</td>\n",
       "      <td>56</td>\n",
       "      <td>8</td>\n",
       "      <td>40</td>\n",
       "    </tr>\n",
       "    <tr>\n",
       "      <th>6</th>\n",
       "      <td>1</td>\n",
       "      <td>57</td>\n",
       "      <td>16</td>\n",
       "      <td>41</td>\n",
       "    </tr>\n",
       "    <tr>\n",
       "      <th>...</th>\n",
       "      <td>...</td>\n",
       "      <td>...</td>\n",
       "      <td>...</td>\n",
       "      <td>...</td>\n",
       "    </tr>\n",
       "    <tr>\n",
       "      <th>1059</th>\n",
       "      <td>485</td>\n",
       "      <td>40</td>\n",
       "      <td>2</td>\n",
       "      <td>56</td>\n",
       "    </tr>\n",
       "    <tr>\n",
       "      <th>1060</th>\n",
       "      <td>496</td>\n",
       "      <td>44</td>\n",
       "      <td>0</td>\n",
       "      <td>61</td>\n",
       "    </tr>\n",
       "    <tr>\n",
       "      <th>1061</th>\n",
       "      <td>497</td>\n",
       "      <td>47</td>\n",
       "      <td>12</td>\n",
       "      <td>63</td>\n",
       "    </tr>\n",
       "    <tr>\n",
       "      <th>1063</th>\n",
       "      <td>499</td>\n",
       "      <td>46</td>\n",
       "      <td>16</td>\n",
       "      <td>62</td>\n",
       "    </tr>\n",
       "    <tr>\n",
       "      <th>1065</th>\n",
       "      <td>511</td>\n",
       "      <td>40</td>\n",
       "      <td>0</td>\n",
       "      <td>58</td>\n",
       "    </tr>\n",
       "  </tbody>\n",
       "</table>\n",
       "<p>688 rows × 4 columns</p>\n",
       "</div>"
      ],
      "text/plain": [
       "      Range  Azimuth  Elevation  RCS\n",
       "0         1       31         16   85\n",
       "1         1       54          2   43\n",
       "2         1       55          2   41\n",
       "3         1       56          8   40\n",
       "6         1       57         16   41\n",
       "...     ...      ...        ...  ...\n",
       "1059    485       40          2   56\n",
       "1060    496       44          0   61\n",
       "1061    497       47         12   63\n",
       "1063    499       46         16   62\n",
       "1065    511       40          0   58\n",
       "\n",
       "[688 rows x 4 columns]"
      ]
     },
     "execution_count": 3,
     "metadata": {},
     "output_type": "execute_result"
    }
   ],
   "source": [
    "x,y,z = dataloader.spherical_to_cartesian( Azimuth_Angle=dataloader.dataframe.Azimuth , Elevation_Angle=dataloader.dataframe.Elevation - 10 , Range=dataloader.dataframe.Range )\n",
    "\n",
    "# plt.hist(z)\n",
    "\n",
    "dataloader.dataframe"
   ]
  },
  {
   "cell_type": "code",
   "execution_count": 4,
   "metadata": {},
   "outputs": [],
   "source": [
    "# dataloader.dataframe_original"
   ]
  },
  {
   "cell_type": "markdown",
   "metadata": {},
   "source": [
    "## <span style=\"color:orange; font-size:0.8em\"> Viewing the point clouds </span>"
   ]
  },
  {
   "cell_type": "code",
   "execution_count": 16,
   "metadata": {},
   "outputs": [],
   "source": [
    "columns = dataloader.dataframe.columns[:3]\n",
    "\n",
    "funcs.DataLoader().visualize(points=dataloader.dataframe[columns])"
   ]
  },
  {
   "cell_type": "markdown",
   "metadata": {},
   "source": [
    "## <span style=\"color:orange; font-size:0.8em\"> Vector Input </span>"
   ]
  },
  {
   "cell_type": "code",
   "execution_count": 6,
   "metadata": {},
   "outputs": [],
   "source": [
    "# loader = funcs.VectorInput(filename='1_.txt', modality='Radar')\n",
    "\n",
    "# print(loader.dataframe.shape)\n",
    "# print(loader.data.test.shape)"
   ]
  },
  {
   "cell_type": "markdown",
   "metadata": {},
   "source": [
    "## <span style=\"color:orange; font-size:0.8em\"> Matrix Input </span>"
   ]
  },
  {
   "cell_type": "code",
   "execution_count": 7,
   "metadata": {},
   "outputs": [
    {
     "name": "stderr",
     "output_type": "stream",
     "text": [
      "Loading the dataset: 1000it [00:30, 32.65it/s]\n",
      "2022-07-14 12:29:58.805679: I tensorflow/stream_executor/cuda/cuda_gpu_executor.cc:975] successful NUMA node read from SysFS had negative value (-1), but there must be at least one NUMA node, so returning NUMA node zero\n",
      "2022-07-14 12:29:58.810517: W tensorflow/stream_executor/platform/default/dso_loader.cc:64] Could not load dynamic library 'libcudnn.so.8'; dlerror: libcudnn.so.8: cannot open shared object file: No such file or directory\n",
      "2022-07-14 12:29:58.810530: W tensorflow/core/common_runtime/gpu/gpu_device.cc:1850] Cannot dlopen some GPU libraries. Please make sure the missing libraries mentioned above are installed properly if you would like to use GPU. Follow the guide at https://www.tensorflow.org/install/gpu for how to download and setup the required libraries for your platform.\n",
      "Skipping registering GPU devices...\n",
      "2022-07-14 12:29:58.810769: I tensorflow/core/platform/cpu_feature_guard.cc:193] This TensorFlow binary is optimized with oneAPI Deep Neural Network Library (oneDNN) to use the following CPU instructions in performance-critical operations:  AVX2 AVX512F AVX512_VNNI FMA\n",
      "To enable them in other operations, rebuild TensorFlow with the appropriate compiler flags.\n"
     ]
    },
    {
     "name": "stdout",
     "output_type": "stream",
     "text": [
      "Epoch 1/20\n",
      "63/63 [==============================] - 2s 21ms/step - loss: 0.2530 - val_loss: 0.2767\n",
      "Epoch 2/20\n",
      "63/63 [==============================] - 1s 18ms/step - loss: 0.1552 - val_loss: 0.1842\n",
      "Epoch 3/20\n",
      "63/63 [==============================] - 1s 18ms/step - loss: 0.1479 - val_loss: 0.1584\n",
      "Epoch 4/20\n",
      "63/63 [==============================] - 1s 18ms/step - loss: 0.1420 - val_loss: 0.1448\n",
      "Epoch 5/20\n",
      "63/63 [==============================] - 1s 17ms/step - loss: 0.1344 - val_loss: 0.1338\n",
      "Epoch 6/20\n",
      "63/63 [==============================] - 1s 18ms/step - loss: 0.1264 - val_loss: 0.1247\n",
      "Epoch 7/20\n",
      "63/63 [==============================] - 1s 18ms/step - loss: 0.1210 - val_loss: 0.1196\n",
      "Epoch 8/20\n",
      "63/63 [==============================] - 1s 18ms/step - loss: 0.1176 - val_loss: 0.1169\n",
      "Epoch 9/20\n",
      "63/63 [==============================] - 1s 19ms/step - loss: 0.1153 - val_loss: 0.1147\n",
      "Epoch 10/20\n",
      "63/63 [==============================] - 1s 18ms/step - loss: 0.1135 - val_loss: 0.1130\n",
      "Epoch 11/20\n",
      "63/63 [==============================] - 1s 18ms/step - loss: 0.1122 - val_loss: 0.1122\n",
      "Epoch 12/20\n",
      "63/63 [==============================] - 1s 18ms/step - loss: 0.1111 - val_loss: 0.1107\n",
      "Epoch 13/20\n",
      "63/63 [==============================] - 1s 18ms/step - loss: 0.1101 - val_loss: 0.1099\n",
      "Epoch 14/20\n",
      "63/63 [==============================] - 1s 18ms/step - loss: 0.1093 - val_loss: 0.1091\n",
      "Epoch 15/20\n",
      "63/63 [==============================] - 1s 18ms/step - loss: 0.1086 - val_loss: 0.1083\n",
      "Epoch 16/20\n",
      "63/63 [==============================] - 1s 18ms/step - loss: 0.1080 - val_loss: 0.1078\n",
      "Epoch 17/20\n",
      "63/63 [==============================] - 1s 18ms/step - loss: 0.1075 - val_loss: 0.1072\n",
      "Epoch 18/20\n",
      "63/63 [==============================] - 1s 18ms/step - loss: 0.1069 - val_loss: 0.1067\n",
      "Epoch 19/20\n",
      "63/63 [==============================] - 1s 18ms/step - loss: 0.1064 - val_loss: 0.1064\n",
      "Epoch 20/20\n",
      "63/63 [==============================] - 1s 18ms/step - loss: 0.1060 - val_loss: 0.1059\n",
      "32/32 [==============================] - 0s 5ms/step\n"
     ]
    }
   ],
   "source": [
    "loader = funcs.MatrixInput(modality='Radar')"
   ]
  },
  {
   "cell_type": "code",
   "execution_count": 17,
   "metadata": {},
   "outputs": [
    {
     "data": {
      "text/plain": [
       "(<AxesSubplot:title={'center':'input'}>,\n",
       " <matplotlib.image.AxesImage at 0x7f1c7e2fab90>,\n",
       " Text(0.5, 1.0, 'input'))"
      ]
     },
     "execution_count": 17,
     "metadata": {},
     "output_type": "execute_result"
    },
    {
     "data": {
      "image/png": "[encoded data removed]",
      "text/plain": [
       "<Figure size 1440x360 with 2 Axes>"
      ]
     },
     "metadata": {
      "needs_background": "light"
     },
     "output_type": "display_data"
    }
   ],
   "source": [
    "channel = 1\n",
    "plt.figure(figsize=(20,5))\n",
    "\n",
    "plt.subplot(211), plt.imshow(loader.predictions[0,:,:,channel]), plt.title(\"Predictions\", fontsize=15)\n",
    "plt.subplot(212), plt.imshow(loader.dataset[0,:,:,channel]), plt.title(\"input\", fontsize=15)"
   ]
  },
  {
   "cell_type": "code",
   "execution_count": 9,
   "metadata": {},
   "outputs": [
    {
     "data": {
      "text/plain": [
       "0.96875"
      ]
     },
     "execution_count": 9,
     "metadata": {},
     "output_type": "execute_result"
    }
   ],
   "source": [
    "loader.dataset[0,:,:,0].max()"
   ]
  },
  {
   "cell_type": "code",
   "execution_count": 10,
   "metadata": {},
   "outputs": [
    {
     "data": {
      "text/html": [
       "<div>\n",
       "<style scoped>\n",
       "    .dataframe tbody tr th:only-of-type {\n",
       "        vertical-align: middle;\n",
       "    }\n",
       "\n",
       "    .dataframe tbody tr th {\n",
       "        vertical-align: top;\n",
       "    }\n",
       "\n",
       "    .dataframe thead th {\n",
       "        text-align: right;\n",
       "    }\n",
       "</style>\n",
       "<table border=\"1\" class=\"dataframe\">\n",
       "  <thead>\n",
       "    <tr style=\"text-align: right;\">\n",
       "      <th></th>\n",
       "      <th>Elevation</th>\n",
       "      <th>Azimuth</th>\n",
       "      <th>RCS</th>\n",
       "      <th>Range</th>\n",
       "      <th>invRange</th>\n",
       "    </tr>\n",
       "  </thead>\n",
       "  <tbody>\n",
       "    <tr>\n",
       "      <th>0</th>\n",
       "      <td>0.0</td>\n",
       "      <td>10.0</td>\n",
       "      <td>0.625000</td>\n",
       "      <td>0.072407</td>\n",
       "      <td>0.027027</td>\n",
       "    </tr>\n",
       "    <tr>\n",
       "      <th>1</th>\n",
       "      <td>0.0</td>\n",
       "      <td>11.0</td>\n",
       "      <td>0.791667</td>\n",
       "      <td>0.009785</td>\n",
       "      <td>0.200000</td>\n",
       "    </tr>\n",
       "    <tr>\n",
       "      <th>2</th>\n",
       "      <td>0.0</td>\n",
       "      <td>12.0</td>\n",
       "      <td>0.729167</td>\n",
       "      <td>0.011742</td>\n",
       "      <td>0.166667</td>\n",
       "    </tr>\n",
       "    <tr>\n",
       "      <th>3</th>\n",
       "      <td>0.0</td>\n",
       "      <td>13.0</td>\n",
       "      <td>0.729167</td>\n",
       "      <td>0.011742</td>\n",
       "      <td>0.166667</td>\n",
       "    </tr>\n",
       "    <tr>\n",
       "      <th>4</th>\n",
       "      <td>0.0</td>\n",
       "      <td>14.0</td>\n",
       "      <td>0.729167</td>\n",
       "      <td>0.011742</td>\n",
       "      <td>0.166667</td>\n",
       "    </tr>\n",
       "    <tr>\n",
       "      <th>...</th>\n",
       "      <td>...</td>\n",
       "      <td>...</td>\n",
       "      <td>...</td>\n",
       "      <td>...</td>\n",
       "      <td>...</td>\n",
       "    </tr>\n",
       "    <tr>\n",
       "      <th>557</th>\n",
       "      <td>17.0</td>\n",
       "      <td>95.0</td>\n",
       "      <td>0.562500</td>\n",
       "      <td>0.131115</td>\n",
       "      <td>0.014925</td>\n",
       "    </tr>\n",
       "    <tr>\n",
       "      <th>558</th>\n",
       "      <td>18.0</td>\n",
       "      <td>84.0</td>\n",
       "      <td>0.562500</td>\n",
       "      <td>0.097847</td>\n",
       "      <td>0.020000</td>\n",
       "    </tr>\n",
       "    <tr>\n",
       "      <th>559</th>\n",
       "      <td>18.0</td>\n",
       "      <td>87.0</td>\n",
       "      <td>0.552083</td>\n",
       "      <td>0.037182</td>\n",
       "      <td>0.052632</td>\n",
       "    </tr>\n",
       "    <tr>\n",
       "      <th>560</th>\n",
       "      <td>18.0</td>\n",
       "      <td>89.0</td>\n",
       "      <td>0.572917</td>\n",
       "      <td>0.037182</td>\n",
       "      <td>0.052632</td>\n",
       "    </tr>\n",
       "    <tr>\n",
       "      <th>561</th>\n",
       "      <td>18.0</td>\n",
       "      <td>95.0</td>\n",
       "      <td>0.541667</td>\n",
       "      <td>0.138943</td>\n",
       "      <td>0.014085</td>\n",
       "    </tr>\n",
       "  </tbody>\n",
       "</table>\n",
       "<p>562 rows × 5 columns</p>\n",
       "</div>"
      ],
      "text/plain": [
       "     Elevation  Azimuth       RCS     Range  invRange\n",
       "0          0.0     10.0  0.625000  0.072407  0.027027\n",
       "1          0.0     11.0  0.791667  0.009785  0.200000\n",
       "2          0.0     12.0  0.729167  0.011742  0.166667\n",
       "3          0.0     13.0  0.729167  0.011742  0.166667\n",
       "4          0.0     14.0  0.729167  0.011742  0.166667\n",
       "..         ...      ...       ...       ...       ...\n",
       "557       17.0     95.0  0.562500  0.131115  0.014925\n",
       "558       18.0     84.0  0.562500  0.097847  0.020000\n",
       "559       18.0     87.0  0.552083  0.037182  0.052632\n",
       "560       18.0     89.0  0.572917  0.037182  0.052632\n",
       "561       18.0     95.0  0.541667  0.138943  0.014085\n",
       "\n",
       "[562 rows x 5 columns]"
      ]
     },
     "execution_count": 10,
     "metadata": {},
     "output_type": "execute_result"
    }
   ],
   "source": [
    "# Take one sample\n",
    "sample = loader.dataset[0,...]\n",
    "\n",
    "# Find the non-zero coordinates in Range channel\n",
    "non_zero_coordinates = np.nonzero(sample[:,:,1])\n",
    "\n",
    "# get the values at the non zero coordinates\n",
    "RCS      = sample[:,:,0][non_zero_coordinates]\n",
    "Range    = sample[:,:,1][non_zero_coordinates]\n",
    "invRange = sample[:,:,2][non_zero_coordinates]\n",
    "\n",
    "dataframe = pd.DataFrame( non_zero_coordinates + (RCS, Range, invRange)  , index=['Elevation','Azimuth','RCS','Range', 'invRange']).T\n",
    "\n",
    "dataframe"
   ]
  }
 ],
 "metadata": {
  "kernelspec": {
   "display_name": "Python 3.7.13 ('autoencoder')",
   "language": "python",
   "name": "python3"
  },
  "language_info": {
   "codemirror_mode": {
    "name": "ipython",
    "version": 3
   },
   "file_extension": ".py",
   "mimetype": "text/x-python",
   "name": "python",
   "nbconvert_exporter": "python",
   "pygments_lexer": "ipython3",
   "version": "3.7.13"
  },
  "orig_nbformat": 4,
  "vscode": {
   "interpreter": {
    "hash": "54012e1f293dab572bba3f57e10fa4027aa2cc0dbccc79422e4471319ef5ee88"
   }
  }
 },
 "nbformat": 4,
 "nbformat_minor": 2
}
